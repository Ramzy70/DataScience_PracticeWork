{
 "cells": [
  {
   "cell_type": "code",
   "execution_count": 1,
   "id": "e2c9e3fd",
   "metadata": {
    "_cell_guid": "b1076dfc-b9ad-4769-8c92-a6c4dae69d19",
    "_uuid": "8f2839f25d086af736a60e9eeb907d3b93b6e0e5",
    "execution": {
     "iopub.execute_input": "2023-12-04T11:47:00.486697Z",
     "iopub.status.busy": "2023-12-04T11:47:00.486282Z",
     "iopub.status.idle": "2023-12-04T11:47:00.995148Z",
     "shell.execute_reply": "2023-12-04T11:47:00.992693Z"
    },
    "papermill": {
     "duration": 0.520912,
     "end_time": "2023-12-04T11:47:00.998438",
     "exception": false,
     "start_time": "2023-12-04T11:47:00.477526",
     "status": "completed"
    },
    "tags": []
   },
   "outputs": [
    {
     "name": "stdout",
     "output_type": "stream",
     "text": [
      "/kaggle/input/test-file/tested.csv\n"
     ]
    }
   ],
   "source": [
    "# This Python 3 environment comes with many helpful analytics libraries installed\n",
    "# It is defined by the kaggle/python Docker image: https://github.com/kaggle/docker-python\n",
    "# For example, here's several helpful packages to load\n",
    "\n",
    "import numpy as np # linear algebra\n",
    "import pandas as pd # data processing, CSV file I/O (e.g. pd.read_csv)\n",
    "\n",
    "# Input data files are available in the read-only \"../input/\" directory\n",
    "# For example, running this (by clicking run or pressing Shift+Enter) will list all files under the input directory\n",
    "\n",
    "import os\n",
    "for dirname, _, filenames in os.walk('/kaggle/input'):\n",
    "    for filename in filenames:\n",
    "        print(os.path.join(dirname, filename))\n",
    "\n",
    "# You can write up to 20GB to the current directory (/kaggle/working/) that gets preserved as output when you create a version using \"Save & Run All\" \n",
    "# You can also write temporary files to /kaggle/temp/, but they won't be saved outside of the current session"
   ]
  },
  {
   "cell_type": "code",
   "execution_count": 2,
   "id": "58b41b83",
   "metadata": {
    "execution": {
     "iopub.execute_input": "2023-12-04T11:47:01.016939Z",
     "iopub.status.busy": "2023-12-04T11:47:01.016252Z",
     "iopub.status.idle": "2023-12-04T11:47:01.042514Z",
     "shell.execute_reply": "2023-12-04T11:47:01.041267Z"
    },
    "papermill": {
     "duration": 0.037237,
     "end_time": "2023-12-04T11:47:01.045868",
     "exception": false,
     "start_time": "2023-12-04T11:47:01.008631",
     "status": "completed"
    },
    "tags": []
   },
   "outputs": [],
   "source": [
    "df = pd.read_csv(\"/kaggle/input/test-file/tested.csv\")"
   ]
  },
  {
   "cell_type": "code",
   "execution_count": 3,
   "id": "1188f59d",
   "metadata": {
    "execution": {
     "iopub.execute_input": "2023-12-04T11:47:01.059682Z",
     "iopub.status.busy": "2023-12-04T11:47:01.059273Z",
     "iopub.status.idle": "2023-12-04T11:47:01.066569Z",
     "shell.execute_reply": "2023-12-04T11:47:01.064789Z"
    },
    "papermill": {
     "duration": 0.018387,
     "end_time": "2023-12-04T11:47:01.070077",
     "exception": false,
     "start_time": "2023-12-04T11:47:01.051690",
     "status": "completed"
    },
    "tags": []
   },
   "outputs": [
    {
     "name": "stdout",
     "output_type": "stream",
     "text": [
      "Columns: Index(['PassengerId', 'Survived', 'Pclass', 'Name', 'Sex', 'Age', 'SibSp',\n",
      "       'Parch', 'Ticket', 'Fare', 'Cabin', 'Embarked'],\n",
      "      dtype='object')\n"
     ]
    }
   ],
   "source": [
    "columns = df.columns\n",
    "print(\"Columns:\", columns)"
   ]
  },
  {
   "cell_type": "code",
   "execution_count": 4,
   "id": "25aeef49",
   "metadata": {
    "execution": {
     "iopub.execute_input": "2023-12-04T11:47:01.084310Z",
     "iopub.status.busy": "2023-12-04T11:47:01.083912Z",
     "iopub.status.idle": "2023-12-04T11:47:01.113596Z",
     "shell.execute_reply": "2023-12-04T11:47:01.112466Z"
    },
    "papermill": {
     "duration": 0.039916,
     "end_time": "2023-12-04T11:47:01.116179",
     "exception": false,
     "start_time": "2023-12-04T11:47:01.076263",
     "status": "completed"
    },
    "tags": []
   },
   "outputs": [
    {
     "name": "stdout",
     "output_type": "stream",
     "text": [
      "   Survived   Age     Fare     Sex  Pclass\n",
      "0         0  34.5   7.8292    male       3\n",
      "1         1  47.0   7.0000  female       3\n",
      "2         0  62.0   9.6875    male       2\n",
      "3         0  27.0   8.6625    male       3\n",
      "4         1  22.0  12.2875  female       3\n"
     ]
    }
   ],
   "source": [
    "selected_columns = ['Survived', 'Age', 'Fare', 'Sex', 'Pclass']\n",
    "titanic_df_selected = df[selected_columns]\n",
    "print(titanic_df_selected.head())"
   ]
  },
  {
   "cell_type": "code",
   "execution_count": 5,
   "id": "55277483",
   "metadata": {
    "execution": {
     "iopub.execute_input": "2023-12-04T11:47:01.129987Z",
     "iopub.status.busy": "2023-12-04T11:47:01.129358Z",
     "iopub.status.idle": "2023-12-04T11:47:01.140521Z",
     "shell.execute_reply": "2023-12-04T11:47:01.139615Z"
    },
    "papermill": {
     "duration": 0.021122,
     "end_time": "2023-12-04T11:47:01.143100",
     "exception": false,
     "start_time": "2023-12-04T11:47:01.121978",
     "status": "completed"
    },
    "tags": []
   },
   "outputs": [
    {
     "name": "stdout",
     "output_type": "stream",
     "text": [
      "   Survived   Age     Fare     Sex  Pclass\n",
      "0         0  34.5   7.8292    male       3\n",
      "1         1  47.0   7.0000  female       3\n",
      "2         0  62.0   9.6875    male       2\n",
      "3         0  27.0   8.6625    male       3\n",
      "4         1  22.0  12.2875  female       3\n"
     ]
    }
   ],
   "source": [
    "# Drop rows with missing values from the selected columns\n",
    "titanic_df_selected = titanic_df_selected.dropna()\n",
    "\n",
    "# Display the first few rows of the dataset after dropping missing values\n",
    "print(titanic_df_selected.head())"
   ]
  },
  {
   "cell_type": "code",
   "execution_count": 6,
   "id": "99aa64f1",
   "metadata": {
    "execution": {
     "iopub.execute_input": "2023-12-04T11:47:01.157393Z",
     "iopub.status.busy": "2023-12-04T11:47:01.156154Z",
     "iopub.status.idle": "2023-12-04T11:47:01.169727Z",
     "shell.execute_reply": "2023-12-04T11:47:01.168154Z"
    },
    "papermill": {
     "duration": 0.023566,
     "end_time": "2023-12-04T11:47:01.172400",
     "exception": false,
     "start_time": "2023-12-04T11:47:01.148834",
     "status": "completed"
    },
    "tags": []
   },
   "outputs": [
    {
     "name": "stdout",
     "output_type": "stream",
     "text": [
      "   Survived   Age     Fare  Sex  Pclass\n",
      "0         0  34.5   7.8292    1       3\n",
      "1         1  47.0   7.0000    0       3\n",
      "2         0  62.0   9.6875    1       2\n",
      "3         0  27.0   8.6625    1       3\n",
      "4         1  22.0  12.2875    0       3\n"
     ]
    }
   ],
   "source": [
    "# Encode the 'Sex' column into numerical values (0 for female, 1 for male)\n",
    "titanic_df_selected['Sex'] = titanic_df_selected['Sex'].map({'female': 0, 'male': 1})\n",
    "\n",
    "# Display the first few rows of the dataset after encoding 'Sex'\n",
    "print(titanic_df_selected.head())"
   ]
  },
  {
   "cell_type": "code",
   "execution_count": 7,
   "id": "f6d9dd4a",
   "metadata": {
    "execution": {
     "iopub.execute_input": "2023-12-04T11:47:01.186044Z",
     "iopub.status.busy": "2023-12-04T11:47:01.185633Z",
     "iopub.status.idle": "2023-12-04T11:47:01.196407Z",
     "shell.execute_reply": "2023-12-04T11:47:01.195192Z"
    },
    "papermill": {
     "duration": 0.021597,
     "end_time": "2023-12-04T11:47:01.199797",
     "exception": false,
     "start_time": "2023-12-04T11:47:01.178200",
     "status": "completed"
    },
    "tags": []
   },
   "outputs": [
    {
     "name": "stdout",
     "output_type": "stream",
     "text": [
      "Features (X):\n",
      "    Age     Fare  Sex  Pclass\n",
      "0  34.5   7.8292    1       3\n",
      "1  47.0   7.0000    0       3\n",
      "2  62.0   9.6875    1       2\n",
      "3  27.0   8.6625    1       3\n",
      "4  22.0  12.2875    0       3\n",
      "\n",
      "Target Variable (y):\n",
      "0    0\n",
      "1    1\n",
      "2    0\n",
      "3    0\n",
      "4    1\n",
      "Name: Survived, dtype: int64\n"
     ]
    }
   ],
   "source": [
    "# Split the data into features (X) and target variable (y)\n",
    "X = titanic_df_selected.drop('Survived', axis=1)  # Features (all columns except 'Survived')\n",
    "y = titanic_df_selected['Survived']  # Target variable\n",
    "\n",
    "# Display the first few rows of features (X) and target variable (y)\n",
    "print(\"Features (X):\")\n",
    "print(X.head())\n",
    "\n",
    "print(\"\\nTarget Variable (y):\")\n",
    "print(y.head())\n"
   ]
  },
  {
   "cell_type": "code",
   "execution_count": 8,
   "id": "e2b978be",
   "metadata": {
    "execution": {
     "iopub.execute_input": "2023-12-04T11:47:01.213551Z",
     "iopub.status.busy": "2023-12-04T11:47:01.213188Z",
     "iopub.status.idle": "2023-12-04T11:47:02.593160Z",
     "shell.execute_reply": "2023-12-04T11:47:02.591831Z"
    },
    "papermill": {
     "duration": 1.389833,
     "end_time": "2023-12-04T11:47:02.595649",
     "exception": false,
     "start_time": "2023-12-04T11:47:01.205816",
     "status": "completed"
    },
    "tags": []
   },
   "outputs": [
    {
     "name": "stdout",
     "output_type": "stream",
     "text": [
      "Training set - Features (X_train): (264, 4)\n",
      "Training set - Target variable (y_train): (264,)\n",
      "\n",
      "Testing set - Features (X_test): (67, 4)\n",
      "Testing set - Target variable (y_test): (67,)\n"
     ]
    }
   ],
   "source": [
    "from sklearn.model_selection import train_test_split\n",
    "\n",
    "# Split the data into training and testing sets (80% training, 20% testing)\n",
    "X_train, X_test, y_train, y_test = train_test_split(X, y, test_size=0.2, random_state=42)\n",
    "\n",
    "# Display the shapes of the training and testing sets\n",
    "print(\"Training set - Features (X_train):\", X_train.shape)\n",
    "print(\"Training set - Target variable (y_train):\", y_train.shape)\n",
    "print(\"\\nTesting set - Features (X_test):\", X_test.shape)\n",
    "print(\"Testing set - Target variable (y_test):\", y_test.shape)\n"
   ]
  },
  {
   "cell_type": "code",
   "execution_count": 9,
   "id": "d578199b",
   "metadata": {
    "execution": {
     "iopub.execute_input": "2023-12-04T11:47:02.609915Z",
     "iopub.status.busy": "2023-12-04T11:47:02.609407Z",
     "iopub.status.idle": "2023-12-04T11:47:02.883778Z",
     "shell.execute_reply": "2023-12-04T11:47:02.882560Z"
    },
    "papermill": {
     "duration": 0.284609,
     "end_time": "2023-12-04T11:47:02.886406",
     "exception": false,
     "start_time": "2023-12-04T11:47:02.601797",
     "status": "completed"
    },
    "tags": []
   },
   "outputs": [
    {
     "name": "stdout",
     "output_type": "stream",
     "text": [
      "Default Parameters of KNeighborsClassifier:\n",
      "KNeighborsClassifier()\n"
     ]
    }
   ],
   "source": [
    "from sklearn.neighbors import KNeighborsClassifier\n",
    "\n",
    "# Create a KNeighborsClassifier with default settings\n",
    "knn_classifier = KNeighborsClassifier()\n",
    "\n",
    "# Display the default parameters\n",
    "print(\"Default Parameters of KNeighborsClassifier:\")\n",
    "print(knn_classifier)"
   ]
  },
  {
   "cell_type": "code",
   "execution_count": 10,
   "id": "ce704d8b",
   "metadata": {
    "execution": {
     "iopub.execute_input": "2023-12-04T11:47:02.901362Z",
     "iopub.status.busy": "2023-12-04T11:47:02.900272Z",
     "iopub.status.idle": "2023-12-04T11:47:02.914970Z",
     "shell.execute_reply": "2023-12-04T11:47:02.914056Z"
    },
    "papermill": {
     "duration": 0.024624,
     "end_time": "2023-12-04T11:47:02.917163",
     "exception": false,
     "start_time": "2023-12-04T11:47:02.892539",
     "status": "completed"
    },
    "tags": []
   },
   "outputs": [
    {
     "data": {
      "text/html": [
       "<style>#sk-container-id-1 {color: black;background-color: white;}#sk-container-id-1 pre{padding: 0;}#sk-container-id-1 div.sk-toggleable {background-color: white;}#sk-container-id-1 label.sk-toggleable__label {cursor: pointer;display: block;width: 100%;margin-bottom: 0;padding: 0.3em;box-sizing: border-box;text-align: center;}#sk-container-id-1 label.sk-toggleable__label-arrow:before {content: \"▸\";float: left;margin-right: 0.25em;color: #696969;}#sk-container-id-1 label.sk-toggleable__label-arrow:hover:before {color: black;}#sk-container-id-1 div.sk-estimator:hover label.sk-toggleable__label-arrow:before {color: black;}#sk-container-id-1 div.sk-toggleable__content {max-height: 0;max-width: 0;overflow: hidden;text-align: left;background-color: #f0f8ff;}#sk-container-id-1 div.sk-toggleable__content pre {margin: 0.2em;color: black;border-radius: 0.25em;background-color: #f0f8ff;}#sk-container-id-1 input.sk-toggleable__control:checked~div.sk-toggleable__content {max-height: 200px;max-width: 100%;overflow: auto;}#sk-container-id-1 input.sk-toggleable__control:checked~label.sk-toggleable__label-arrow:before {content: \"▾\";}#sk-container-id-1 div.sk-estimator input.sk-toggleable__control:checked~label.sk-toggleable__label {background-color: #d4ebff;}#sk-container-id-1 div.sk-label input.sk-toggleable__control:checked~label.sk-toggleable__label {background-color: #d4ebff;}#sk-container-id-1 input.sk-hidden--visually {border: 0;clip: rect(1px 1px 1px 1px);clip: rect(1px, 1px, 1px, 1px);height: 1px;margin: -1px;overflow: hidden;padding: 0;position: absolute;width: 1px;}#sk-container-id-1 div.sk-estimator {font-family: monospace;background-color: #f0f8ff;border: 1px dotted black;border-radius: 0.25em;box-sizing: border-box;margin-bottom: 0.5em;}#sk-container-id-1 div.sk-estimator:hover {background-color: #d4ebff;}#sk-container-id-1 div.sk-parallel-item::after {content: \"\";width: 100%;border-bottom: 1px solid gray;flex-grow: 1;}#sk-container-id-1 div.sk-label:hover label.sk-toggleable__label {background-color: #d4ebff;}#sk-container-id-1 div.sk-serial::before {content: \"\";position: absolute;border-left: 1px solid gray;box-sizing: border-box;top: 0;bottom: 0;left: 50%;z-index: 0;}#sk-container-id-1 div.sk-serial {display: flex;flex-direction: column;align-items: center;background-color: white;padding-right: 0.2em;padding-left: 0.2em;position: relative;}#sk-container-id-1 div.sk-item {position: relative;z-index: 1;}#sk-container-id-1 div.sk-parallel {display: flex;align-items: stretch;justify-content: center;background-color: white;position: relative;}#sk-container-id-1 div.sk-item::before, #sk-container-id-1 div.sk-parallel-item::before {content: \"\";position: absolute;border-left: 1px solid gray;box-sizing: border-box;top: 0;bottom: 0;left: 50%;z-index: -1;}#sk-container-id-1 div.sk-parallel-item {display: flex;flex-direction: column;z-index: 1;position: relative;background-color: white;}#sk-container-id-1 div.sk-parallel-item:first-child::after {align-self: flex-end;width: 50%;}#sk-container-id-1 div.sk-parallel-item:last-child::after {align-self: flex-start;width: 50%;}#sk-container-id-1 div.sk-parallel-item:only-child::after {width: 0;}#sk-container-id-1 div.sk-dashed-wrapped {border: 1px dashed gray;margin: 0 0.4em 0.5em 0.4em;box-sizing: border-box;padding-bottom: 0.4em;background-color: white;}#sk-container-id-1 div.sk-label label {font-family: monospace;font-weight: bold;display: inline-block;line-height: 1.2em;}#sk-container-id-1 div.sk-label-container {text-align: center;}#sk-container-id-1 div.sk-container {/* jupyter's `normalize.less` sets `[hidden] { display: none; }` but bootstrap.min.css set `[hidden] { display: none !important; }` so we also need the `!important` here to be able to override the default hidden behavior on the sphinx rendered scikit-learn.org. See: https://github.com/scikit-learn/scikit-learn/issues/21755 */display: inline-block !important;position: relative;}#sk-container-id-1 div.sk-text-repr-fallback {display: none;}</style><div id=\"sk-container-id-1\" class=\"sk-top-container\"><div class=\"sk-text-repr-fallback\"><pre>KNeighborsClassifier()</pre><b>In a Jupyter environment, please rerun this cell to show the HTML representation or trust the notebook. <br />On GitHub, the HTML representation is unable to render, please try loading this page with nbviewer.org.</b></div><div class=\"sk-container\" hidden><div class=\"sk-item\"><div class=\"sk-estimator sk-toggleable\"><input class=\"sk-toggleable__control sk-hidden--visually\" id=\"sk-estimator-id-1\" type=\"checkbox\" checked><label for=\"sk-estimator-id-1\" class=\"sk-toggleable__label sk-toggleable__label-arrow\">KNeighborsClassifier</label><div class=\"sk-toggleable__content\"><pre>KNeighborsClassifier()</pre></div></div></div></div></div>"
      ],
      "text/plain": [
       "KNeighborsClassifier()"
      ]
     },
     "execution_count": 10,
     "metadata": {},
     "output_type": "execute_result"
    }
   ],
   "source": [
    "# Fit the KNN classifier on the training data\n",
    "knn_classifier.fit(X_train, y_train)"
   ]
  },
  {
   "cell_type": "code",
   "execution_count": 11,
   "id": "ac5a425a",
   "metadata": {
    "execution": {
     "iopub.execute_input": "2023-12-04T11:47:02.933772Z",
     "iopub.status.busy": "2023-12-04T11:47:02.932423Z",
     "iopub.status.idle": "2023-12-04T11:47:02.943648Z",
     "shell.execute_reply": "2023-12-04T11:47:02.942761Z"
    },
    "papermill": {
     "duration": 0.022501,
     "end_time": "2023-12-04T11:47:02.946623",
     "exception": false,
     "start_time": "2023-12-04T11:47:02.924122",
     "status": "completed"
    },
    "tags": []
   },
   "outputs": [
    {
     "name": "stdout",
     "output_type": "stream",
     "text": [
      "Predicted Probabilities for the Positive Class:\n",
      "[0.4 0.6 0.2 1.  0.2 0.  0.2 0.  0.4 0.8 0.6 1.  0.2 0.  0.2 0.4 0.8 0.8\n",
      " 0.2 0.2 0.4 0.4 0.2 0.2 0.4 1.  0.6 0.4 0.6 0.8 0.2 0.4 0.6 0.  0.2 0.\n",
      " 0.  0.  0.2 0.  0.  0.8 1.  0.2 0.6 0.6 0.2 0.8 0.  0.8 0.2 0.6 0.  0.\n",
      " 0.  0.2 0.2 0.6 0.  0.  0.4 0.2 0.  0.2 0.  0.6 0. ]\n"
     ]
    }
   ],
   "source": [
    "# Use the KNN classifier to predict probabilities for the positive class (survived) on the test data\n",
    "y_probabilities = knn_classifier.predict_proba(X_test)[:, 1]\n",
    "\n",
    "# Display the predicted probabilities\n",
    "print(\"Predicted Probabilities for the Positive Class:\")\n",
    "print(y_probabilities)\n"
   ]
  },
  {
   "cell_type": "code",
   "execution_count": 12,
   "id": "2b853a9c",
   "metadata": {
    "execution": {
     "iopub.execute_input": "2023-12-04T11:47:02.963456Z",
     "iopub.status.busy": "2023-12-04T11:47:02.962152Z",
     "iopub.status.idle": "2023-12-04T11:47:02.973852Z",
     "shell.execute_reply": "2023-12-04T11:47:02.972344Z"
    },
    "papermill": {
     "duration": 0.023249,
     "end_time": "2023-12-04T11:47:02.976803",
     "exception": false,
     "start_time": "2023-12-04T11:47:02.953554",
     "status": "completed"
    },
    "tags": []
   },
   "outputs": [
    {
     "name": "stdout",
     "output_type": "stream",
     "text": [
      "ROC AUC Score: 0.7530303030303029\n"
     ]
    }
   ],
   "source": [
    "from sklearn.metrics import roc_auc_score, roc_curve\n",
    "import matplotlib.pyplot as plt\n",
    "\n",
    "# Calculate ROC AUC score\n",
    "roc_auc = roc_auc_score(y_test, y_probabilities)\n",
    "print(f'ROC AUC Score: {roc_auc}')\n"
   ]
  },
  {
   "cell_type": "code",
   "execution_count": 13,
   "id": "db1784b4",
   "metadata": {
    "execution": {
     "iopub.execute_input": "2023-12-04T11:47:02.992132Z",
     "iopub.status.busy": "2023-12-04T11:47:02.991721Z",
     "iopub.status.idle": "2023-12-04T11:47:03.340432Z",
     "shell.execute_reply": "2023-12-04T11:47:03.339317Z"
    },
    "papermill": {
     "duration": 0.359519,
     "end_time": "2023-12-04T11:47:03.343175",
     "exception": false,
     "start_time": "2023-12-04T11:47:02.983656",
     "status": "completed"
    },
    "tags": []
   },
   "outputs": [
    {
     "data": {
      "image/png": "[encoded data removed]",
      "text/plain": [
       "<Figure size 640x480 with 1 Axes>"
      ]
     },
     "metadata": {},
     "output_type": "display_data"
    }
   ],
   "source": [
    "from sklearn.metrics import roc_auc_score, roc_curve\n",
    "import matplotlib.pyplot as plt\n",
    "\n",
    "# Plot the ROC curve\n",
    "fpr, tpr, _ = roc_curve(y_test, y_probabilities)\n",
    "plt.plot(fpr, tpr, color='darkorange', lw=2, label='ROC curve (area = {:.2f})'.format(roc_auc))\n",
    "plt.plot([0, 1], [0, 1], color='navy', lw=2, linestyle='--')\n",
    "plt.xlabel('False Positive Rate')\n",
    "plt.ylabel('True Positive Rate')\n",
    "plt.title('Receiver Operating Characteristic (ROC) Curve')\n",
    "plt.legend(loc='lower right')\n",
    "plt.show()\n"
   ]
  }
 ],
 "metadata": {
  "kaggle": {
   "accelerator": "none",
   "dataSources": [
    {
     "datasetId": 826163,
     "sourceId": 2879186,
     "sourceType": "datasetVersion"
    }
   ],
   "dockerImageVersionId": 30587,
   "isGpuEnabled": false,
   "isInternetEnabled": true,
   "language": "python",
   "sourceType": "notebook"
  },
  "kernelspec": {
   "display_name": "Python 3",
   "language": "python",
   "name": "python3"
  },
  "language_info": {
   "codemirror_mode": {
    "name": "ipython",
    "version": 3
   },
   "file_extension": ".py",
   "mimetype": "text/x-python",
   "name": "python",
   "nbconvert_exporter": "python",
   "pygments_lexer": "ipython3",
   "version": "3.10.12"
  },
  "papermill": {
   "default_parameters": {},
   "duration": 7.05116,
   "end_time": "2023-12-04T11:47:03.971264",
   "environment_variables": {},
   "exception": null,
   "input_path": "__notebook__.ipynb",
   "output_path": "__notebook__.ipynb",
   "parameters": {},
   "start_time": "2023-12-04T11:46:56.920104",
   "version": "2.4.0"
  }
 },
 "nbformat": 4,
 "nbformat_minor": 5
}
