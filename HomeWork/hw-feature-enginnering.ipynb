{
 "cells": [
  {
   "cell_type": "code",
   "execution_count": 1,
   "id": "7e5a87c5",
   "metadata": {
    "execution": {
     "iopub.execute_input": "2023-12-08T21:00:18.198598Z",
     "iopub.status.busy": "2023-12-08T21:00:18.198002Z",
     "iopub.status.idle": "2023-12-08T21:00:18.540811Z",
     "shell.execute_reply": "2023-12-08T21:00:18.539956Z"
    },
    "papermill": {
     "duration": 0.349337,
     "end_time": "2023-12-08T21:00:18.543219",
     "exception": false,
     "start_time": "2023-12-08T21:00:18.193882",
     "status": "completed"
    },
    "tags": []
   },
   "outputs": [
    {
     "data": {
      "text/html": [
       "<div>\n",
       "<style scoped>\n",
       "    .dataframe tbody tr th:only-of-type {\n",
       "        vertical-align: middle;\n",
       "    }\n",
       "\n",
       "    .dataframe tbody tr th {\n",
       "        vertical-align: top;\n",
       "    }\n",
       "\n",
       "    .dataframe thead th {\n",
       "        text-align: right;\n",
       "    }\n",
       "</style>\n",
       "<table border=\"1\" class=\"dataframe\">\n",
       "  <thead>\n",
       "    <tr style=\"text-align: right;\">\n",
       "      <th></th>\n",
       "      <th>Temperature</th>\n",
       "      <th>Cloud_Cover</th>\n",
       "      <th>Humidity</th>\n",
       "      <th>Weather</th>\n",
       "      <th>Temperature_Level</th>\n",
       "    </tr>\n",
       "  </thead>\n",
       "  <tbody>\n",
       "    <tr>\n",
       "      <th>0</th>\n",
       "      <td>75</td>\n",
       "      <td>Sunny</td>\n",
       "      <td>Low</td>\n",
       "      <td>Sunny</td>\n",
       "      <td>Hot</td>\n",
       "    </tr>\n",
       "    <tr>\n",
       "      <th>1</th>\n",
       "      <td>80</td>\n",
       "      <td>Partly Cloudy</td>\n",
       "      <td>High</td>\n",
       "      <td>Sunny</td>\n",
       "      <td>Hot</td>\n",
       "    </tr>\n",
       "    <tr>\n",
       "      <th>2</th>\n",
       "      <td>85</td>\n",
       "      <td>Overcast</td>\n",
       "      <td>High</td>\n",
       "      <td>Rainy</td>\n",
       "      <td>Very Hot</td>\n",
       "    </tr>\n",
       "    <tr>\n",
       "      <th>3</th>\n",
       "      <td>70</td>\n",
       "      <td>Sunny</td>\n",
       "      <td>Medium</td>\n",
       "      <td>Sunny</td>\n",
       "      <td>Warm</td>\n",
       "    </tr>\n",
       "    <tr>\n",
       "      <th>4</th>\n",
       "      <td>65</td>\n",
       "      <td>Overcast</td>\n",
       "      <td>Medium</td>\n",
       "      <td>Stormy</td>\n",
       "      <td>Warm</td>\n",
       "    </tr>\n",
       "    <tr>\n",
       "      <th>5</th>\n",
       "      <td>60</td>\n",
       "      <td>Partly Cloudy</td>\n",
       "      <td>Low</td>\n",
       "      <td>Sunny</td>\n",
       "      <td>Warm</td>\n",
       "    </tr>\n",
       "    <tr>\n",
       "      <th>6</th>\n",
       "      <td>90</td>\n",
       "      <td>Overcast</td>\n",
       "      <td>High</td>\n",
       "      <td>Rainy</td>\n",
       "      <td>Very Hot</td>\n",
       "    </tr>\n",
       "  </tbody>\n",
       "</table>\n",
       "</div>"
      ],
      "text/plain": [
       "   Temperature    Cloud_Cover Humidity Weather Temperature_Level\n",
       "0           75          Sunny      Low   Sunny               Hot\n",
       "1           80  Partly Cloudy     High   Sunny               Hot\n",
       "2           85       Overcast     High   Rainy          Very Hot\n",
       "3           70          Sunny   Medium   Sunny              Warm\n",
       "4           65       Overcast   Medium  Stormy              Warm\n",
       "5           60  Partly Cloudy      Low   Sunny              Warm\n",
       "6           90       Overcast     High   Rainy          Very Hot"
      ]
     },
     "execution_count": 1,
     "metadata": {},
     "output_type": "execute_result"
    }
   ],
   "source": [
    "# Step 1: Discretize the feature Temperature\n",
    "import pandas as pd\n",
    "\n",
    "# Create the dataset\n",
    "data = {\n",
    "    'Temperature': [75, 80, 85, 70, 65, 60, 90],\n",
    "    'Cloud_Cover': ['Sunny', 'Partly Cloudy', 'Overcast', 'Sunny', 'Overcast', 'Partly Cloudy', 'Overcast'],\n",
    "    'Humidity': ['Low', 'High', 'High', 'Medium', 'Medium', 'Low', 'High'],\n",
    "    'Weather': ['Sunny', 'Sunny', 'Rainy', 'Sunny', 'Stormy', 'Sunny', 'Rainy']\n",
    "}\n",
    "\n",
    "df = pd.DataFrame(data)\n",
    "\n",
    "# Discretize the Temperature feature\n",
    "df['Temperature_Level'] = pd.cut(df['Temperature'], bins=[-float('inf'), 70, 80, float('inf')], labels=['Warm', 'Hot', 'Very Hot'])\n",
    "\n",
    "# Display the modified dataset\n",
    "df\n"
   ]
  },
  {
   "cell_type": "code",
   "execution_count": 2,
   "id": "335b3682",
   "metadata": {
    "execution": {
     "iopub.execute_input": "2023-12-08T21:00:18.549510Z",
     "iopub.status.busy": "2023-12-08T21:00:18.548986Z",
     "iopub.status.idle": "2023-12-08T21:00:18.560363Z",
     "shell.execute_reply": "2023-12-08T21:00:18.558859Z"
    },
    "papermill": {
     "duration": 0.017103,
     "end_time": "2023-12-08T21:00:18.562671",
     "exception": false,
     "start_time": "2023-12-08T21:00:18.545568",
     "status": "completed"
    },
    "tags": []
   },
   "outputs": [
    {
     "name": "stdout",
     "output_type": "stream",
     "text": [
      "Entropy of Weather: 1.3787834934861753\n"
     ]
    }
   ],
   "source": [
    "# Step 2: Calculate the Entropy of the target class Weather\n",
    "import math\n",
    "\n",
    "# Calculate entropy function\n",
    "def calculate_entropy(values):\n",
    "    total_records = len(values)\n",
    "    unique_values = values.unique()\n",
    "\n",
    "    entropy = 0\n",
    "    for value in unique_values:\n",
    "        probability = len(values[values == value]) / total_records\n",
    "        entropy -= probability * math.log2(probability)\n",
    "\n",
    "    return entropy\n",
    "\n",
    "# Calculate the entropy of the target class Weather\n",
    "weather_entropy = calculate_entropy(df['Weather'])\n",
    "print(\"Entropy of Weather:\", weather_entropy)\n"
   ]
  },
  {
   "cell_type": "code",
   "execution_count": 3,
   "id": "f27b69fa",
   "metadata": {
    "execution": {
     "iopub.execute_input": "2023-12-08T21:00:18.568786Z",
     "iopub.status.busy": "2023-12-08T21:00:18.567774Z",
     "iopub.status.idle": "2023-12-08T21:00:18.590776Z",
     "shell.execute_reply": "2023-12-08T21:00:18.589223Z"
    },
    "papermill": {
     "duration": 0.028491,
     "end_time": "2023-12-08T21:00:18.593150",
     "exception": false,
     "start_time": "2023-12-08T21:00:18.564659",
     "status": "completed"
    },
    "tags": []
   },
   "outputs": [
    {
     "name": "stdout",
     "output_type": "stream",
     "text": [
      "Features and Information Gains:\n",
      "Cloud_Cover: 0.9852281360342513\n",
      "Temperature_Level: 0.9852281360342513\n",
      "Humidity: 0.6995138503199656\n"
     ]
    }
   ],
   "source": [
    "# Step 3: Calculate the Information Gain for each feature\n",
    "# Step 4: Order the features according to their Information Gain\n",
    "\n",
    "# Calculate information gain function\n",
    "def calculate_information_gain(data, feature, target):\n",
    "    total_entropy = calculate_entropy(data[target])\n",
    "    unique_values = data[feature].unique()\n",
    "\n",
    "    information_gain = total_entropy\n",
    "    for value in unique_values:\n",
    "        subset = data[data[feature] == value]\n",
    "        entropy = calculate_entropy(subset[target])\n",
    "        probability = len(subset) / len(data)\n",
    "        information_gain -= probability * entropy\n",
    "\n",
    "    return information_gain\n",
    "\n",
    "# Calculate information gain for each feature\n",
    "features = ['Cloud_Cover', 'Humidity', 'Temperature_Level']\n",
    "information_gains = {}\n",
    "\n",
    "for feature in features:\n",
    "    information_gain = calculate_information_gain(df, feature, 'Weather')\n",
    "    information_gains[feature] = information_gain\n",
    "\n",
    "# Order features based on information gain in descending order\n",
    "sorted_features = sorted(information_gains.items(), key=lambda x: x[1], reverse=True)\n",
    "\n",
    "# Display the features and their information gains\n",
    "print(\"Features and Information Gains:\")\n",
    "for feature, gain in sorted_features:\n",
    "    print(f\"{feature}: {gain}\")\n"
   ]
  }
 ],
 "metadata": {
  "kaggle": {
   "accelerator": "none",
   "dataSources": [],
   "dockerImageVersionId": 30615,
   "isGpuEnabled": false,
   "isInternetEnabled": true,
   "language": "python",
   "sourceType": "notebook"
  },
  "kernelspec": {
   "display_name": "Python 3",
   "language": "python",
   "name": "python3"
  },
  "language_info": {
   "codemirror_mode": {
    "name": "ipython",
    "version": 3
   },
   "file_extension": ".py",
   "mimetype": "text/x-python",
   "name": "python",
   "nbconvert_exporter": "python",
   "pygments_lexer": "ipython3",
   "version": "3.10.12"
  },
  "papermill": {
   "default_parameters": {},
   "duration": 3.475907,
   "end_time": "2023-12-08T21:00:19.015016",
   "environment_variables": {},
   "exception": null,
   "input_path": "__notebook__.ipynb",
   "output_path": "__notebook__.ipynb",
   "parameters": {},
   "start_time": "2023-12-08T21:00:15.539109",
   "version": "2.4.0"
  }
 },
 "nbformat": 4,
 "nbformat_minor": 5
}
