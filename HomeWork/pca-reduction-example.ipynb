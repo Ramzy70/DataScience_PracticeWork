{
 "cells": [
  {
   "cell_type": "code",
   "execution_count": 1,
   "id": "010d7ee1",
   "metadata": {
    "_cell_guid": "b1076dfc-b9ad-4769-8c92-a6c4dae69d19",
    "_uuid": "8f2839f25d086af736a60e9eeb907d3b93b6e0e5",
    "execution": {
     "iopub.execute_input": "2023-12-19T17:47:15.859958Z",
     "iopub.status.busy": "2023-12-19T17:47:15.859548Z",
     "iopub.status.idle": "2023-12-19T17:47:16.237952Z",
     "shell.execute_reply": "2023-12-19T17:47:16.237061Z"
    },
    "papermill": {
     "duration": 0.3864,
     "end_time": "2023-12-19T17:47:16.240450",
     "exception": false,
     "start_time": "2023-12-19T17:47:15.854050",
     "status": "completed"
    },
    "tags": []
   },
   "outputs": [],
   "source": [
    "# This Python 3 environment comes with many helpful analytics libraries installed\n",
    "# It is defined by the kaggle/python Docker image: https://github.com/kaggle/docker-python\n",
    "# For example, here's several helpful packages to load\n",
    "\n",
    "import numpy as np # linear algebra\n",
    "import pandas as pd # data processing, CSV file I/O (e.g. pd.read_csv)\n",
    "\n",
    "# Input data files are available in the read-only \"../input/\" directory\n",
    "# For example, running this (by clicking run or pressing Shift+Enter) will list all files under the input directory\n",
    "\n",
    "import os\n",
    "for dirname, _, filenames in os.walk('/kaggle/input'):\n",
    "    for filename in filenames:\n",
    "        print(os.path.join(dirname, filename))\n",
    "\n",
    "# You can write up to 20GB to the current directory (/kaggle/working/) that gets preserved as output when you create a version using \"Save & Run All\" \n",
    "# You can also write temporary files to /kaggle/temp/, but they won't be saved outside of the current session"
   ]
  },
  {
   "cell_type": "code",
   "execution_count": 2,
   "id": "f0ffed27",
   "metadata": {
    "execution": {
     "iopub.execute_input": "2023-12-19T17:47:16.248310Z",
     "iopub.status.busy": "2023-12-19T17:47:16.247880Z",
     "iopub.status.idle": "2023-12-19T17:47:16.262440Z",
     "shell.execute_reply": "2023-12-19T17:47:16.261714Z"
    },
    "papermill": {
     "duration": 0.020588,
     "end_time": "2023-12-19T17:47:16.264360",
     "exception": false,
     "start_time": "2023-12-19T17:47:16.243772",
     "status": "completed"
    },
    "tags": []
   },
   "outputs": [
    {
     "name": "stdout",
     "output_type": "stream",
     "text": [
      "Means: x    11.333333\n",
      "y    17.883333\n",
      "z     1.800000\n",
      "dtype: float64\n",
      "\n",
      "Standard Deviations: x    5.428321\n",
      "y    4.510174\n",
      "z    4.206186\n",
      "dtype: float64\n"
     ]
    }
   ],
   "source": [
    "import pandas as pd\n",
    "import numpy as np\n",
    "\n",
    "# dataset\n",
    "data = {\n",
    "    'x': [12, 17, 12, 6, 17, 4],\n",
    "    'y': [24, 15.5, 13, 13.5, 21, 20.3],\n",
    "    'z': [6, -2, 3, -2.5, 7.2, -0.9]\n",
    "}\n",
    "\n",
    "df = pd.DataFrame(data)\n",
    "\n",
    "# 1: Calculate the mean and standard deviation for each variable\n",
    "means = df.mean()\n",
    "std_devs = df.std()\n",
    "\n",
    "print(\"Means:\" , means)\n",
    "print(\"\\nStandard Deviations:\" , std_devs)"
   ]
  },
  {
   "cell_type": "code",
   "execution_count": 3,
   "id": "2a39e2b3",
   "metadata": {
    "execution": {
     "iopub.execute_input": "2023-12-19T17:47:16.272599Z",
     "iopub.status.busy": "2023-12-19T17:47:16.271953Z",
     "iopub.status.idle": "2023-12-19T17:47:16.285563Z",
     "shell.execute_reply": "2023-12-19T17:47:16.284845Z"
    },
    "papermill": {
     "duration": 0.020283,
     "end_time": "2023-12-19T17:47:16.287868",
     "exception": false,
     "start_time": "2023-12-19T17:47:16.267585",
     "status": "completed"
    },
    "tags": []
   },
   "outputs": [
    {
     "name": "stdout",
     "output_type": "stream",
     "text": [
      "Standardized Data (Matrix S):           x         y         z\n",
      "0  0.122813  1.356193  0.998529\n",
      "1  1.043908 -0.528435 -0.903431\n",
      "2  0.122813 -1.082737  0.285294\n",
      "3 -0.982502 -0.971877 -1.022304\n",
      "4  1.043908  0.691030  1.283823\n",
      "5 -1.350940  0.535826 -0.641912\n"
     ]
    }
   ],
   "source": [
    "# 2: Standardize the data using the Z-score\n",
    "standardized_data = (df - means) / std_devs\n",
    "print(\"Standardized Data (Matrix S):\" , standardized_data)"
   ]
  },
  {
   "cell_type": "code",
   "execution_count": 4,
   "id": "bf4c8200",
   "metadata": {
    "execution": {
     "iopub.execute_input": "2023-12-19T17:47:16.295924Z",
     "iopub.status.busy": "2023-12-19T17:47:16.295560Z",
     "iopub.status.idle": "2023-12-19T17:47:16.304725Z",
     "shell.execute_reply": "2023-12-19T17:47:16.303666Z"
    },
    "papermill": {
     "duration": 0.016108,
     "end_time": "2023-12-19T17:47:16.307177",
     "exception": false,
     "start_time": "2023-12-19T17:47:16.291069",
     "status": "completed"
    },
    "tags": []
   },
   "outputs": [
    {
     "name": "stdout",
     "output_type": "stream",
     "text": [
      "\n",
      "Covariance Matrix C:           x         y         z\n",
      "x  1.000000  0.086864  0.485273\n",
      "y  0.086864  1.000000  0.611893\n",
      "z  0.485273  0.611893  1.000000\n"
     ]
    }
   ],
   "source": [
    "# 3: Calculate the covariance matrix C\n",
    "covariance_matrix = standardized_data.cov()\n",
    "\n",
    "print(\"\\nCovariance Matrix C:\" , covariance_matrix)"
   ]
  },
  {
   "cell_type": "code",
   "execution_count": 5,
   "id": "5c3e81bd",
   "metadata": {
    "execution": {
     "iopub.execute_input": "2023-12-19T17:47:16.316454Z",
     "iopub.status.busy": "2023-12-19T17:47:16.315529Z",
     "iopub.status.idle": "2023-12-19T17:47:16.335709Z",
     "shell.execute_reply": "2023-12-19T17:47:16.334674Z"
    },
    "papermill": {
     "duration": 0.027111,
     "end_time": "2023-12-19T17:47:16.337856",
     "exception": false,
     "start_time": "2023-12-19T17:47:16.310745",
     "status": "completed"
    },
    "tags": []
   },
   "outputs": [
    {
     "name": "stdout",
     "output_type": "stream",
     "text": [
      "Eigenvalues: [1.82462432 0.91547483 0.25990085]\n",
      "Eigenvectors: [[-0.46348371 -0.78498896 -0.41106591]\n",
      " [-0.55899398  0.61896667 -0.55173   ]\n",
      " [-0.68753806  0.0259345   0.72568507]]\n"
     ]
    }
   ],
   "source": [
    "# 4: Find the eigenvalues and eigenvectors\n",
    "\n",
    "eigenvalues, eigenvectors = np.linalg.eig(covariance_matrix)\n",
    "print(\"Eigenvalues:\" , eigenvalues)\n",
    "print(\"Eigenvectors:\" , eigenvectors)\n"
   ]
  },
  {
   "cell_type": "code",
   "execution_count": 6,
   "id": "416c7fec",
   "metadata": {
    "execution": {
     "iopub.execute_input": "2023-12-19T17:47:16.346529Z",
     "iopub.status.busy": "2023-12-19T17:47:16.345546Z",
     "iopub.status.idle": "2023-12-19T17:47:16.353777Z",
     "shell.execute_reply": "2023-12-19T17:47:16.352951Z"
    },
    "papermill": {
     "duration": 0.01451,
     "end_time": "2023-12-19T17:47:16.355807",
     "exception": false,
     "start_time": "2023-12-19T17:47:16.341297",
     "status": "completed"
    },
    "tags": []
   },
   "outputs": [
    {
     "name": "stdout",
     "output_type": "stream",
     "text": [
      "Sorted Eigenvalues: [1.82462432 0.91547483 0.25990085]\n",
      "Sorted Eigenvectors: [[-0.46348371 -0.78498896 -0.41106591]\n",
      " [-0.55899398  0.61896667 -0.55173   ]\n",
      " [-0.68753806  0.0259345   0.72568507]]\n"
     ]
    }
   ],
   "source": [
    "# 5: Sort eigenvalues and rearrange eigenvectors\n",
    "sorted_indices = np.argsort(eigenvalues)[::-1]\n",
    "sorted_eigenvalues = eigenvalues[sorted_indices]\n",
    "sorted_eigenvectors = eigenvectors[:, sorted_indices]\n",
    "\n",
    "print(\"Sorted Eigenvalues:\" , sorted_eigenvalues)\n",
    "print(\"Sorted Eigenvectors:\" , sorted_eigenvectors)\n"
   ]
  },
  {
   "cell_type": "code",
   "execution_count": 7,
   "id": "869620e0",
   "metadata": {
    "execution": {
     "iopub.execute_input": "2023-12-19T17:47:16.364314Z",
     "iopub.status.busy": "2023-12-19T17:47:16.363587Z",
     "iopub.status.idle": "2023-12-19T17:47:16.371075Z",
     "shell.execute_reply": "2023-12-19T17:47:16.369814Z"
    },
    "papermill": {
     "duration": 0.013781,
     "end_time": "2023-12-19T17:47:16.372905",
     "exception": false,
     "start_time": "2023-12-19T17:47:16.359124",
     "status": "completed"
    },
    "tags": []
   },
   "outputs": [
    {
     "name": "stdout",
     "output_type": "stream",
     "text": [
      "Explained Variance Ratio: [0.60820811 0.30515828 0.08663362]\n",
      "Cumulative Explained Variance: [0.60820811 0.91336638 1.        ]\n",
      "Number of Principal Components to Keep: 2\n"
     ]
    }
   ],
   "source": [
    "# 6: Decide how many principal components to keep\n",
    "total_variance = np.sum(sorted_eigenvalues)\n",
    "explained_variance_ratio = sorted_eigenvalues / total_variance\n",
    "cumulative_explained_variance = np.cumsum(explained_variance_ratio)\n",
    "\n",
    "# Find the number of components to keep (e.g., 90% of variance)\n",
    "threshold_variance = 0.9\n",
    "num_components_to_keep = np.argmax(cumulative_explained_variance >= threshold_variance) + 1\n",
    "\n",
    "print(\"Explained Variance Ratio:\" , explained_variance_ratio)\n",
    "print(\"Cumulative Explained Variance:\" , cumulative_explained_variance)\n",
    "print(\"Number of Principal Components to Keep:\", num_components_to_keep)"
   ]
  },
  {
   "cell_type": "code",
   "execution_count": 8,
   "id": "4f7ad342",
   "metadata": {
    "execution": {
     "iopub.execute_input": "2023-12-19T17:47:16.381674Z",
     "iopub.status.busy": "2023-12-19T17:47:16.380783Z",
     "iopub.status.idle": "2023-12-19T17:47:16.387553Z",
     "shell.execute_reply": "2023-12-19T17:47:16.386770Z"
    },
    "papermill": {
     "duration": 0.013245,
     "end_time": "2023-12-19T17:47:16.389622",
     "exception": false,
     "start_time": "2023-12-19T17:47:16.376377",
     "status": "completed"
    },
    "tags": []
   },
   "outputs": [
    {
     "name": "stdout",
     "output_type": "stream",
     "text": [
      "Projection Matrix V: [[-0.46348371 -0.78498896]\n",
      " [-0.55899398  0.61896667]\n",
      " [-0.68753806  0.0259345 ]]\n"
     ]
    }
   ],
   "source": [
    "# 7: Form the projection matrix V\n",
    "\n",
    "top_eigenvalues = sorted_eigenvalues[:num_components_to_keep]\n",
    "top_eigenvectors = sorted_eigenvectors[:, :num_components_to_keep]\n",
    "\n",
    "projection_matrix_V = top_eigenvectors\n",
    "\n",
    "print(\"Projection Matrix V:\" , projection_matrix_V)"
   ]
  },
  {
   "cell_type": "code",
   "execution_count": 9,
   "id": "b32f6dcb",
   "metadata": {
    "execution": {
     "iopub.execute_input": "2023-12-19T17:47:16.398281Z",
     "iopub.status.busy": "2023-12-19T17:47:16.397952Z",
     "iopub.status.idle": "2023-12-19T17:47:16.406956Z",
     "shell.execute_reply": "2023-12-19T17:47:16.406071Z"
    },
    "papermill": {
     "duration": 0.016535,
     "end_time": "2023-12-19T17:47:16.409720",
     "exception": false,
     "start_time": "2023-12-19T17:47:16.393185",
     "status": "completed"
    },
    "tags": []
   },
   "outputs": [
    {
     "name": "stdout",
     "output_type": "stream",
     "text": [
      "\n",
      "Reduced Data Matrix R:           0         1\n",
      "0 -1.501552  0.768928\n",
      "1  0.432701 -1.169970\n",
      "2  0.352171 -0.759186\n",
      "3  1.701520  0.143181\n",
      "4 -1.752794 -0.358436\n",
      "5  0.767954  1.375483\n"
     ]
    }
   ],
   "source": [
    "# 8: Calculate the reduced data matrix R\n",
    "standardized_data = (df - df.mean()) / df.std()\n",
    "\n",
    "reduced_data_matrix_R = standardized_data.dot(projection_matrix_V)\n",
    "\n",
    "print(\"\\nReduced Data Matrix R:\" , reduced_data_matrix_R)"
   ]
  }
 ],
 "metadata": {
  "kaggle": {
   "accelerator": "none",
   "dataSources": [],
   "dockerImageVersionId": 30626,
   "isGpuEnabled": false,
   "isInternetEnabled": true,
   "language": "python",
   "sourceType": "notebook"
  },
  "kernelspec": {
   "display_name": "Python 3",
   "language": "python",
   "name": "python3"
  },
  "language_info": {
   "codemirror_mode": {
    "name": "ipython",
    "version": 3
   },
   "file_extension": ".py",
   "mimetype": "text/x-python",
   "name": "python",
   "nbconvert_exporter": "python",
   "pygments_lexer": "ipython3",
   "version": "3.10.12"
  },
  "papermill": {
   "default_parameters": {},
   "duration": 3.927012,
   "end_time": "2023-12-19T17:47:16.832243",
   "environment_variables": {},
   "exception": null,
   "input_path": "__notebook__.ipynb",
   "output_path": "__notebook__.ipynb",
   "parameters": {},
   "start_time": "2023-12-19T17:47:12.905231",
   "version": "2.4.0"
  }
 },
 "nbformat": 4,
 "nbformat_minor": 5
}
