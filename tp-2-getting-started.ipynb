{
 "cells": [
  {
   "cell_type": "code",
   "execution_count": 1,
   "id": "49864a74",
   "metadata": {
    "_cell_guid": "b1076dfc-b9ad-4769-8c92-a6c4dae69d19",
    "_uuid": "8f2839f25d086af736a60e9eeb907d3b93b6e0e5",
    "execution": {
     "iopub.execute_input": "2023-11-06T16:43:13.128210Z",
     "iopub.status.busy": "2023-11-06T16:43:13.127806Z",
     "iopub.status.idle": "2023-11-06T16:43:13.521529Z",
     "shell.execute_reply": "2023-11-06T16:43:13.520749Z"
    },
    "papermill": {
     "duration": 0.405824,
     "end_time": "2023-11-06T16:43:13.523912",
     "exception": false,
     "start_time": "2023-11-06T16:43:13.118088",
     "status": "completed"
    },
    "tags": []
   },
   "outputs": [
    {
     "name": "stdout",
     "output_type": "stream",
     "text": [
      "/kaggle/input/sales-forecasting/train.csv\n"
     ]
    }
   ],
   "source": [
    "# This Python 3 environment comes with many helpful analytics libraries installed\n",
    "# It is defined by the kaggle/python Docker image: https://github.com/kaggle/docker-python\n",
    "# For example, here's several helpful packages to load\n",
    "\n",
    "import numpy as np # linear algebra\n",
    "import pandas as pd # data processing, CSV file I/O (e.g. pd.read_csv)\n",
    "\n",
    "# Input data files are available in the read-only \"../input/\" directory\n",
    "# For example, running this (by clicking run or pressing Shift+Enter) will list all files under the input directory\n",
    "\n",
    "import os\n",
    "for dirname, _, filenames in os.walk('/kaggle/input'):\n",
    "    for filename in filenames:\n",
    "        print(os.path.join(dirname, filename))\n",
    "\n",
    "# You can write up to 20GB to the current directory (/kaggle/working/) that gets preserved as output when you create a version using \"Save & Run All\" \n",
    "# You can also write temporary files to /kaggle/temp/, but they won't be saved outside of the current session"
   ]
  },
  {
   "cell_type": "markdown",
   "id": "f56e15b5",
   "metadata": {
    "papermill": {
     "duration": 0.006733,
     "end_time": "2023-11-06T16:43:13.538059",
     "exception": false,
     "start_time": "2023-11-06T16:43:13.531326",
     "status": "completed"
    },
    "tags": []
   },
   "source": [
    "# **1)-**"
   ]
  },
  {
   "cell_type": "code",
   "execution_count": 2,
   "id": "3d878057",
   "metadata": {
    "execution": {
     "iopub.execute_input": "2023-11-06T16:43:13.554840Z",
     "iopub.status.busy": "2023-11-06T16:43:13.553498Z",
     "iopub.status.idle": "2023-11-06T16:43:13.657449Z",
     "shell.execute_reply": "2023-11-06T16:43:13.655753Z"
    },
    "papermill": {
     "duration": 0.11521,
     "end_time": "2023-11-06T16:43:13.660311",
     "exception": false,
     "start_time": "2023-11-06T16:43:13.545101",
     "status": "completed"
    },
    "tags": []
   },
   "outputs": [],
   "source": [
    "df = pd.read_csv(\"/kaggle/input/sales-forecasting/train.csv\")"
   ]
  },
  {
   "cell_type": "markdown",
   "id": "f57d62ab",
   "metadata": {
    "papermill": {
     "duration": 0.008151,
     "end_time": "2023-11-06T16:43:13.675752",
     "exception": false,
     "start_time": "2023-11-06T16:43:13.667601",
     "status": "completed"
    },
    "tags": []
   },
   "source": [
    "# **2)-** **a)-**"
   ]
  },
  {
   "cell_type": "code",
   "execution_count": 3,
   "id": "97b9f75a",
   "metadata": {
    "execution": {
     "iopub.execute_input": "2023-11-06T16:43:13.693469Z",
     "iopub.status.busy": "2023-11-06T16:43:13.693097Z",
     "iopub.status.idle": "2023-11-06T16:43:13.699426Z",
     "shell.execute_reply": "2023-11-06T16:43:13.698507Z"
    },
    "papermill": {
     "duration": 0.01841,
     "end_time": "2023-11-06T16:43:13.702842",
     "exception": false,
     "start_time": "2023-11-06T16:43:13.684432",
     "status": "completed"
    },
    "tags": []
   },
   "outputs": [
    {
     "name": "stdout",
     "output_type": "stream",
     "text": [
      "Columns: Index(['Row ID', 'Order ID', 'Order Date', 'Ship Date', 'Ship Mode',\n",
      "       'Customer ID', 'Customer Name', 'Segment', 'Country', 'City', 'State',\n",
      "       'Postal Code', 'Region', 'Product ID', 'Category', 'Sub-Category',\n",
      "       'Product Name', 'Sales'],\n",
      "      dtype='object')\n"
     ]
    }
   ],
   "source": [
    "columns = df.columns\n",
    "print(\"Columns:\", columns)"
   ]
  },
  {
   "cell_type": "markdown",
   "id": "dcd628fd",
   "metadata": {
    "papermill": {
     "duration": 0.00711,
     "end_time": "2023-11-06T16:43:13.718442",
     "exception": false,
     "start_time": "2023-11-06T16:43:13.711332",
     "status": "completed"
    },
    "tags": []
   },
   "source": [
    "# **2)-** **b)-**"
   ]
  },
  {
   "cell_type": "code",
   "execution_count": 4,
   "id": "4870d4e0",
   "metadata": {
    "execution": {
     "iopub.execute_input": "2023-11-06T16:43:13.736045Z",
     "iopub.status.busy": "2023-11-06T16:43:13.735041Z",
     "iopub.status.idle": "2023-11-06T16:43:13.741616Z",
     "shell.execute_reply": "2023-11-06T16:43:13.740324Z"
    },
    "papermill": {
     "duration": 0.017772,
     "end_time": "2023-11-06T16:43:13.744200",
     "exception": false,
     "start_time": "2023-11-06T16:43:13.726428",
     "status": "completed"
    },
    "tags": []
   },
   "outputs": [
    {
     "name": "stdout",
     "output_type": "stream",
     "text": [
      "Number of Rows: 9800\n"
     ]
    }
   ],
   "source": [
    "num_rows = df.shape[0] \n",
    "print(\"Number of Rows:\", num_rows)"
   ]
  },
  {
   "cell_type": "markdown",
   "id": "8b3664db",
   "metadata": {
    "papermill": {
     "duration": 0.007404,
     "end_time": "2023-11-06T16:43:13.758851",
     "exception": false,
     "start_time": "2023-11-06T16:43:13.751447",
     "status": "completed"
    },
    "tags": []
   },
   "source": [
    "# **2)-** **c)-**"
   ]
  },
  {
   "cell_type": "code",
   "execution_count": 5,
   "id": "0cf4ec1e",
   "metadata": {
    "_kg_hide-input": true,
    "execution": {
     "iopub.execute_input": "2023-11-06T16:43:13.775757Z",
     "iopub.status.busy": "2023-11-06T16:43:13.775381Z",
     "iopub.status.idle": "2023-11-06T16:43:13.792650Z",
     "shell.execute_reply": "2023-11-06T16:43:13.791092Z"
    },
    "papermill": {
     "duration": 0.028383,
     "end_time": "2023-11-06T16:43:13.795233",
     "exception": false,
     "start_time": "2023-11-06T16:43:13.766850",
     "status": "completed"
    },
    "tags": []
   },
   "outputs": [
    {
     "name": "stdout",
     "output_type": "stream",
     "text": [
      "Averaged Numbers:\n",
      "0       14227.653333\n",
      "1       14384.646667\n",
      "2       30017.873333\n",
      "3       11424.192500\n",
      "4       11112.789333\n",
      "            ...     \n",
      "9795    23469.932667\n",
      "9796    17807.456000\n",
      "9797    17882.729333\n",
      "9798    17813.458667\n",
      "9799    17808.461333\n",
      "Length: 9800, dtype: float64\n"
     ]
    }
   ],
   "source": [
    "row_averages = df.mean(axis=1, numeric_only=True)\n",
    "print(\"Averaged Numbers:\")\n",
    "print(row_averages)"
   ]
  },
  {
   "cell_type": "markdown",
   "id": "3319f2db",
   "metadata": {
    "papermill": {
     "duration": 0.007138,
     "end_time": "2023-11-06T16:43:13.809803",
     "exception": false,
     "start_time": "2023-11-06T16:43:13.802665",
     "status": "completed"
    },
    "tags": []
   },
   "source": [
    "# **2)-** **d)-**"
   ]
  },
  {
   "cell_type": "code",
   "execution_count": 6,
   "id": "9be5b8ea",
   "metadata": {
    "execution": {
     "iopub.execute_input": "2023-11-06T16:43:13.825936Z",
     "iopub.status.busy": "2023-11-06T16:43:13.825574Z",
     "iopub.status.idle": "2023-11-06T16:43:13.859880Z",
     "shell.execute_reply": "2023-11-06T16:43:13.858105Z"
    },
    "papermill": {
     "duration": 0.045234,
     "end_time": "2023-11-06T16:43:13.862287",
     "exception": false,
     "start_time": "2023-11-06T16:43:13.817053",
     "status": "completed"
    },
    "tags": []
   },
   "outputs": [
    {
     "name": "stdout",
     "output_type": "stream",
     "text": [
      "Maximum Values for Each Column:\n",
      "Row ID                                         9800\n",
      "Order ID                             US-2018-169551\n",
      "Order Date                               31/12/2017\n",
      "Ship Date                                31/12/2018\n",
      "Ship Mode                            Standard Class\n",
      "Customer ID                                ZD-21925\n",
      "Customer Name                    Zuschuss Donatelli\n",
      "Segment                                 Home Office\n",
      "Country                               United States\n",
      "City                                           Yuma\n",
      "State                                       Wyoming\n",
      "Postal Code                                 99301.0\n",
      "Region                                         West\n",
      "Product ID                          TEC-PH-10004977\n",
      "Category                                 Technology\n",
      "Sub-Category                                 Tables\n",
      "Product Name     netTALK DUO VoIP Telephone Service\n",
      "Sales                                      22638.48\n",
      "dtype: object\n",
      "\n",
      "Minimum Values for Each Column:\n",
      "Row ID                                                           1\n",
      "Order ID                                            CA-2015-100006\n",
      "Order Date                                              01/01/2018\n",
      "Ship Date                                               01/01/2016\n",
      "Ship Mode                                              First Class\n",
      "Customer ID                                               AA-10315\n",
      "Customer Name                                        Aaron Bergman\n",
      "Segment                                                   Consumer\n",
      "Country                                              United States\n",
      "City                                                      Aberdeen\n",
      "State                                                      Alabama\n",
      "Postal Code                                                 1040.0\n",
      "Region                                                     Central\n",
      "Product ID                                         FUR-BO-10000112\n",
      "Category                                                 Furniture\n",
      "Sub-Category                                           Accessories\n",
      "Product Name     \"While you Were Out\" Message Book, One Form pe...\n",
      "Sales                                                        0.444\n",
      "dtype: object\n"
     ]
    }
   ],
   "source": [
    "column_max = df.max()\n",
    "column_min = df.min()\n",
    "\n",
    "print(\"Maximum Values for Each Column:\")\n",
    "print(column_max)\n",
    "\n",
    "print(\"\\nMinimum Values for Each Column:\")\n",
    "print(column_min)"
   ]
  },
  {
   "cell_type": "markdown",
   "id": "da7591c0",
   "metadata": {
    "papermill": {
     "duration": 0.007041,
     "end_time": "2023-11-06T16:43:13.876838",
     "exception": false,
     "start_time": "2023-11-06T16:43:13.869797",
     "status": "completed"
    },
    "tags": []
   },
   "source": [
    "# **2)-** **e)-**"
   ]
  },
  {
   "cell_type": "code",
   "execution_count": 7,
   "id": "6279cabb",
   "metadata": {
    "execution": {
     "iopub.execute_input": "2023-11-06T16:43:13.893905Z",
     "iopub.status.busy": "2023-11-06T16:43:13.892961Z",
     "iopub.status.idle": "2023-11-06T16:43:13.907424Z",
     "shell.execute_reply": "2023-11-06T16:43:13.906280Z"
    },
    "papermill": {
     "duration": 0.025542,
     "end_time": "2023-11-06T16:43:13.909759",
     "exception": false,
     "start_time": "2023-11-06T16:43:13.884217",
     "status": "completed"
    },
    "tags": []
   },
   "outputs": [
    {
     "name": "stdout",
     "output_type": "stream",
     "text": [
      "Missing Values per Column:\n",
      "Row ID            0\n",
      "Order ID          0\n",
      "Order Date        0\n",
      "Ship Date         0\n",
      "Ship Mode         0\n",
      "Customer ID       0\n",
      "Customer Name     0\n",
      "Segment           0\n",
      "Country           0\n",
      "City              0\n",
      "State             0\n",
      "Postal Code      11\n",
      "Region            0\n",
      "Product ID        0\n",
      "Category          0\n",
      "Sub-Category      0\n",
      "Product Name      0\n",
      "Sales             0\n",
      "dtype: int64\n"
     ]
    }
   ],
   "source": [
    "missing_values = df.isnull().sum()\n",
    "print(\"Missing Values per Column:\")\n",
    "print(missing_values)"
   ]
  },
  {
   "cell_type": "markdown",
   "id": "5d910f5c",
   "metadata": {
    "papermill": {
     "duration": 0.007163,
     "end_time": "2023-11-06T16:43:13.924394",
     "exception": false,
     "start_time": "2023-11-06T16:43:13.917231",
     "status": "completed"
    },
    "tags": []
   },
   "source": [
    "# **3)-**"
   ]
  },
  {
   "cell_type": "code",
   "execution_count": 8,
   "id": "7c0a3151",
   "metadata": {
    "execution": {
     "iopub.execute_input": "2023-11-06T16:43:13.941474Z",
     "iopub.status.busy": "2023-11-06T16:43:13.940852Z",
     "iopub.status.idle": "2023-11-06T16:43:13.957512Z",
     "shell.execute_reply": "2023-11-06T16:43:13.956389Z"
    },
    "papermill": {
     "duration": 0.028327,
     "end_time": "2023-11-06T16:43:13.960211",
     "exception": false,
     "start_time": "2023-11-06T16:43:13.931884",
     "status": "completed"
    },
    "tags": []
   },
   "outputs": [
    {
     "name": "stdout",
     "output_type": "stream",
     "text": [
      "   Row ID        Order ID  Order Date   Ship Date       Ship Mode Customer ID  \\\n",
      "0       1  CA-2017-152156  08/11/2017  11/11/2017    Second Class    CG-12520   \n",
      "1       2  CA-2017-152156  08/11/2017  11/11/2017    Second Class    CG-12520   \n",
      "2       3  CA-2017-138688  12/06/2017  16/06/2017    Second Class    DV-13045   \n",
      "3       4  US-2016-108966  11/10/2016  18/10/2016  Standard Class    SO-20335   \n",
      "4       5  US-2016-108966  11/10/2016  18/10/2016  Standard Class    SO-20335   \n",
      "5       6  CA-2015-115812  09/06/2015  14/06/2015  Standard Class    BH-11710   \n",
      "6       7  CA-2015-115812  09/06/2015  14/06/2015  Standard Class    BH-11710   \n",
      "7       8  CA-2015-115812  09/06/2015  14/06/2015  Standard Class    BH-11710   \n",
      "8       9  CA-2015-115812  09/06/2015  14/06/2015  Standard Class    BH-11710   \n",
      "9      10  CA-2015-115812  09/06/2015  14/06/2015  Standard Class    BH-11710   \n",
      "\n",
      "     Customer Name    Segment        Country             City       State  \\\n",
      "0      Claire Gute   Consumer  United States        Henderson    Kentucky   \n",
      "1      Claire Gute   Consumer  United States        Henderson    Kentucky   \n",
      "2  Darrin Van Huff  Corporate  United States      Los Angeles  California   \n",
      "3   Sean O'Donnell   Consumer  United States  Fort Lauderdale     Florida   \n",
      "4   Sean O'Donnell   Consumer  United States  Fort Lauderdale     Florida   \n",
      "5  Brosina Hoffman   Consumer  United States      Los Angeles  California   \n",
      "6  Brosina Hoffman   Consumer  United States      Los Angeles  California   \n",
      "7  Brosina Hoffman   Consumer  United States      Los Angeles  California   \n",
      "8  Brosina Hoffman   Consumer  United States      Los Angeles  California   \n",
      "9  Brosina Hoffman   Consumer  United States      Los Angeles  California   \n",
      "\n",
      "   Postal Code Region       Product ID         Category Sub-Category  \\\n",
      "0      42420.0  South  FUR-BO-10001798        Furniture    Bookcases   \n",
      "1      42420.0  South  FUR-CH-10000454        Furniture       Chairs   \n",
      "2      90036.0   West  OFF-LA-10000240  Office Supplies       Labels   \n",
      "3      33311.0  South  FUR-TA-10000577        Furniture       Tables   \n",
      "4      33311.0  South  OFF-ST-10000760  Office Supplies      Storage   \n",
      "5      90032.0   West  FUR-FU-10001487        Furniture  Furnishings   \n",
      "6      90032.0   West  OFF-AR-10002833  Office Supplies          Art   \n",
      "7      90032.0   West  TEC-PH-10002275       Technology       Phones   \n",
      "8      90032.0   West  OFF-BI-10003910  Office Supplies      Binders   \n",
      "9      90032.0   West  OFF-AP-10002892  Office Supplies   Appliances   \n",
      "\n",
      "                                        Product Name     Sales  \n",
      "0                  Bush Somerset Collection Bookcase  261.9600  \n",
      "1  Hon Deluxe Fabric Upholstered Stacking Chairs,...  731.9400  \n",
      "2  Self-Adhesive Address Labels for Typewriters b...   14.6200  \n",
      "3      Bretford CR4500 Series Slim Rectangular Table  957.5775  \n",
      "4                     Eldon Fold 'N Roll Cart System   22.3680  \n",
      "5  Eldon Expressions Wood and Plastic Desk Access...   48.8600  \n",
      "6                                         Newell 322    7.2800  \n",
      "7                     Mitel 5320 IP Phone VoIP phone  907.1520  \n",
      "8  DXL Angle-View Binders with Locking Rings by S...   18.5040  \n",
      "9                   Belkin F5C206VTEL 6 Outlet Surge  114.9000  \n"
     ]
    }
   ],
   "source": [
    "# Display the first 10 rows of the DataFrame\n",
    "first_10_rows = df.head(10)\n",
    "print(first_10_rows)"
   ]
  },
  {
   "cell_type": "markdown",
   "id": "189118af",
   "metadata": {
    "papermill": {
     "duration": 0.007424,
     "end_time": "2023-11-06T16:43:13.975205",
     "exception": false,
     "start_time": "2023-11-06T16:43:13.967781",
     "status": "completed"
    },
    "tags": []
   },
   "source": [
    "# **4)-** **a)-**"
   ]
  },
  {
   "cell_type": "code",
   "execution_count": 9,
   "id": "7dd9839b",
   "metadata": {
    "execution": {
     "iopub.execute_input": "2023-11-06T16:43:13.992335Z",
     "iopub.status.busy": "2023-11-06T16:43:13.991906Z",
     "iopub.status.idle": "2023-11-06T16:43:14.018212Z",
     "shell.execute_reply": "2023-11-06T16:43:14.017105Z"
    },
    "papermill": {
     "duration": 0.037492,
     "end_time": "2023-11-06T16:43:14.020763",
     "exception": false,
     "start_time": "2023-11-06T16:43:13.983271",
     "status": "completed"
    },
    "tags": []
   },
   "outputs": [
    {
     "name": "stdout",
     "output_type": "stream",
     "text": [
      "Number of Unique Values per Column:\n",
      "Row ID           9800\n",
      "Order ID         4922\n",
      "Order Date       1230\n",
      "Ship Date        1326\n",
      "Ship Mode           4\n",
      "Customer ID       793\n",
      "Customer Name     793\n",
      "Segment             3\n",
      "Country             1\n",
      "City              529\n",
      "State              49\n",
      "Postal Code       626\n",
      "Region              4\n",
      "Product ID       1861\n",
      "Category            3\n",
      "Sub-Category       17\n",
      "Product Name     1849\n",
      "Sales            5757\n",
      "dtype: int64\n"
     ]
    }
   ],
   "source": [
    "# Count the number of unique values per column\n",
    "unique_values_count = df.nunique()\n",
    "print(\"Number of Unique Values per Column:\")\n",
    "print(unique_values_count)"
   ]
  },
  {
   "cell_type": "markdown",
   "id": "02b7240a",
   "metadata": {
    "papermill": {
     "duration": 0.007417,
     "end_time": "2023-11-06T16:43:14.036633",
     "exception": false,
     "start_time": "2023-11-06T16:43:14.029216",
     "status": "completed"
    },
    "tags": []
   },
   "source": [
    "# **4)-** **b)-**"
   ]
  },
  {
   "cell_type": "code",
   "execution_count": 10,
   "id": "aba73bc8",
   "metadata": {
    "execution": {
     "iopub.execute_input": "2023-11-06T16:43:14.053735Z",
     "iopub.status.busy": "2023-11-06T16:43:14.053363Z",
     "iopub.status.idle": "2023-11-06T16:43:14.060289Z",
     "shell.execute_reply": "2023-11-06T16:43:14.059076Z"
    },
    "papermill": {
     "duration": 0.019014,
     "end_time": "2023-11-06T16:43:14.063352",
     "exception": false,
     "start_time": "2023-11-06T16:43:14.044338",
     "status": "completed"
    },
    "tags": []
   },
   "outputs": [
    {
     "name": "stdout",
     "output_type": "stream",
     "text": [
      "Data Types of Values in Each Column:\n",
      "Row ID             int64\n",
      "Order ID          object\n",
      "Order Date        object\n",
      "Ship Date         object\n",
      "Ship Mode         object\n",
      "Customer ID       object\n",
      "Customer Name     object\n",
      "Segment           object\n",
      "Country           object\n",
      "City              object\n",
      "State             object\n",
      "Postal Code      float64\n",
      "Region            object\n",
      "Product ID        object\n",
      "Category          object\n",
      "Sub-Category      object\n",
      "Product Name      object\n",
      "Sales            float64\n",
      "dtype: object\n"
     ]
    }
   ],
   "source": [
    "# Get the data types of values in each column\n",
    "data_types = df.dtypes\n",
    "print(\"Data Types of Values in Each Column:\")\n",
    "print(data_types)"
   ]
  },
  {
   "cell_type": "markdown",
   "id": "94cd5b56",
   "metadata": {
    "papermill": {
     "duration": 0.007474,
     "end_time": "2023-11-06T16:43:14.079205",
     "exception": false,
     "start_time": "2023-11-06T16:43:14.071731",
     "status": "completed"
    },
    "tags": []
   },
   "source": [
    "# **4)-** **c)-**"
   ]
  },
  {
   "cell_type": "code",
   "execution_count": 11,
   "id": "aae2b7ad",
   "metadata": {
    "execution": {
     "iopub.execute_input": "2023-11-06T16:43:14.096838Z",
     "iopub.status.busy": "2023-11-06T16:43:14.096448Z",
     "iopub.status.idle": "2023-11-06T16:43:14.120678Z",
     "shell.execute_reply": "2023-11-06T16:43:14.119076Z"
    },
    "papermill": {
     "duration": 0.036064,
     "end_time": "2023-11-06T16:43:14.123054",
     "exception": false,
     "start_time": "2023-11-06T16:43:14.086990",
     "status": "completed"
    },
    "tags": []
   },
   "outputs": [
    {
     "name": "stdout",
     "output_type": "stream",
     "text": [
      "Mean of Each Group:\n",
      "                 Row ID   Postal Code       Sales\n",
      "Order Date                                       \n",
      "01/01/2018  6805.300000  72860.000000  148.182800\n",
      "01/02/2015   541.000000  54302.000000  468.900000\n",
      "01/02/2017  5823.000000  56120.000000   80.985000\n",
      "01/03/2015  6738.800000  70210.200000  220.315100\n",
      "01/03/2016  8024.428571  65653.285714  234.596343\n",
      "...                 ...           ...         ...\n",
      "31/10/2017  5976.875000  66606.250000  468.812375\n",
      "31/10/2018  7351.000000  65479.000000  174.642667\n",
      "31/12/2015  5672.500000  25150.142857  375.233571\n",
      "31/12/2016  3730.909091  60365.727273  125.576727\n",
      "31/12/2017  3776.714286  67639.857143  104.538286\n",
      "\n",
      "[1230 rows x 3 columns]\n"
     ]
    }
   ],
   "source": [
    "grouped = df.groupby('Order Date')\n",
    "mean_per_group = grouped.mean( numeric_only=True)\n",
    "\n",
    "print(\"Mean of Each Group:\")\n",
    "print(mean_per_group)"
   ]
  },
  {
   "cell_type": "markdown",
   "id": "c81c4301",
   "metadata": {
    "papermill": {
     "duration": 0.00775,
     "end_time": "2023-11-06T16:43:14.138733",
     "exception": false,
     "start_time": "2023-11-06T16:43:14.130983",
     "status": "completed"
    },
    "tags": []
   },
   "source": [
    "# **4)-** **d)-**"
   ]
  },
  {
   "cell_type": "code",
   "execution_count": 12,
   "id": "c4a6c2a9",
   "metadata": {
    "execution": {
     "iopub.execute_input": "2023-11-06T16:43:14.156342Z",
     "iopub.status.busy": "2023-11-06T16:43:14.155954Z",
     "iopub.status.idle": "2023-11-06T16:43:14.167939Z",
     "shell.execute_reply": "2023-11-06T16:43:14.166698Z"
    },
    "papermill": {
     "duration": 0.024043,
     "end_time": "2023-11-06T16:43:14.170618",
     "exception": false,
     "start_time": "2023-11-06T16:43:14.146575",
     "status": "completed"
    },
    "tags": []
   },
   "outputs": [
    {
     "name": "stdout",
     "output_type": "stream",
     "text": [
      "Row with the Highest Average:\n",
      "Row ID                                            8154\n",
      "Order ID                                CA-2018-140151\n",
      "Order Date                                  23/03/2018\n",
      "Ship Date                                   25/03/2018\n",
      "Ship Mode                                  First Class\n",
      "Customer ID                                   RB-19360\n",
      "Customer Name                             Raymond Buch\n",
      "Segment                                       Consumer\n",
      "Country                                  United States\n",
      "City                                           Seattle\n",
      "State                                       Washington\n",
      "Postal Code                                    98115.0\n",
      "Region                                            West\n",
      "Product ID                             TEC-CO-10004722\n",
      "Category                                    Technology\n",
      "Sub-Category                                   Copiers\n",
      "Product Name     Canon imageCLASS 2200 Advanced Copier\n",
      "Sales                                         13999.96\n",
      "Name: 8153, dtype: object\n"
     ]
    }
   ],
   "source": [
    "row_averages = df.mean(axis=1, numeric_only=True)\n",
    "index_of_max_average = row_averages.idxmax()\n",
    "\n",
    "# Extract the row with the highest average\n",
    "row_with_highest_average = df.loc[index_of_max_average]\n",
    "\n",
    "# Print the row with the highest average\n",
    "print(\"Row with the Highest Average:\")\n",
    "print(row_with_highest_average)"
   ]
  },
  {
   "cell_type": "markdown",
   "id": "f2b435f6",
   "metadata": {
    "papermill": {
     "duration": 0.007556,
     "end_time": "2023-11-06T16:43:14.186189",
     "exception": false,
     "start_time": "2023-11-06T16:43:14.178633",
     "status": "completed"
    },
    "tags": []
   },
   "source": [
    "# **5)-** "
   ]
  },
  {
   "cell_type": "code",
   "execution_count": 13,
   "id": "9489e2ed",
   "metadata": {
    "execution": {
     "iopub.execute_input": "2023-11-06T16:43:14.203631Z",
     "iopub.status.busy": "2023-11-06T16:43:14.203267Z",
     "iopub.status.idle": "2023-11-06T16:43:14.225993Z",
     "shell.execute_reply": "2023-11-06T16:43:14.225103Z"
    },
    "papermill": {
     "duration": 0.035104,
     "end_time": "2023-11-06T16:43:14.229055",
     "exception": false,
     "start_time": "2023-11-06T16:43:14.193951",
     "status": "completed"
    },
    "tags": []
   },
   "outputs": [
    {
     "name": "stdout",
     "output_type": "stream",
     "text": [
      "                                           Product Name     Customer Name  \\\n",
      "0                     Bush Somerset Collection Bookcase       Claire Gute   \n",
      "1     Hon Deluxe Fabric Upholstered Stacking Chairs,...       Claire Gute   \n",
      "2     Self-Adhesive Address Labels for Typewriters b...   Darrin Van Huff   \n",
      "3         Bretford CR4500 Series Slim Rectangular Table    Sean O'Donnell   \n",
      "4                        Eldon Fold 'N Roll Cart System    Sean O'Donnell   \n",
      "...                                                 ...               ...   \n",
      "9795  Cardinal HOLDit! Binder Insert Strips,Extra St...     Sally Hughsby   \n",
      "9796           BIC Brite Liner Highlighters, Chisel Tip  Cindy Schnelling   \n",
      "9797                                        GE 30524EE4  Cindy Schnelling   \n",
      "9798           Anker 24W Portable Micro USB Car Charger  Cindy Schnelling   \n",
      "9799                SanDisk Cruzer 4 GB USB Flash Drive  Cindy Schnelling   \n",
      "\n",
      "         Sales  Row ID        Order ID  Order Date   Ship Date  \\\n",
      "0     261.9600       1  CA-2017-152156  08/11/2017  11/11/2017   \n",
      "1     731.9400       2  CA-2017-152156  08/11/2017  11/11/2017   \n",
      "2      14.6200       3  CA-2017-138688  12/06/2017  16/06/2017   \n",
      "3     957.5775       4  US-2016-108966  11/10/2016  18/10/2016   \n",
      "4      22.3680       5  US-2016-108966  11/10/2016  18/10/2016   \n",
      "...        ...     ...             ...         ...         ...   \n",
      "9795    3.7980    9796  CA-2017-125920  21/05/2017  28/05/2017   \n",
      "9796   10.3680    9797  CA-2016-128608  12/01/2016  17/01/2016   \n",
      "9797  235.1880    9798  CA-2016-128608  12/01/2016  17/01/2016   \n",
      "9798   26.3760    9799  CA-2016-128608  12/01/2016  17/01/2016   \n",
      "9799   10.3840    9800  CA-2016-128608  12/01/2016  17/01/2016   \n",
      "\n",
      "           Ship Mode Customer ID    Segment        Country             City  \\\n",
      "0       Second Class    CG-12520   Consumer  United States        Henderson   \n",
      "1       Second Class    CG-12520   Consumer  United States        Henderson   \n",
      "2       Second Class    DV-13045  Corporate  United States      Los Angeles   \n",
      "3     Standard Class    SO-20335   Consumer  United States  Fort Lauderdale   \n",
      "4     Standard Class    SO-20335   Consumer  United States  Fort Lauderdale   \n",
      "...              ...         ...        ...            ...              ...   \n",
      "9795  Standard Class    SH-19975  Corporate  United States          Chicago   \n",
      "9796  Standard Class    CS-12490  Corporate  United States           Toledo   \n",
      "9797  Standard Class    CS-12490  Corporate  United States           Toledo   \n",
      "9798  Standard Class    CS-12490  Corporate  United States           Toledo   \n",
      "9799  Standard Class    CS-12490  Corporate  United States           Toledo   \n",
      "\n",
      "           State  Postal Code   Region       Product ID         Category  \\\n",
      "0       Kentucky      42420.0    South  FUR-BO-10001798        Furniture   \n",
      "1       Kentucky      42420.0    South  FUR-CH-10000454        Furniture   \n",
      "2     California      90036.0     West  OFF-LA-10000240  Office Supplies   \n",
      "3        Florida      33311.0    South  FUR-TA-10000577        Furniture   \n",
      "4        Florida      33311.0    South  OFF-ST-10000760  Office Supplies   \n",
      "...          ...          ...      ...              ...              ...   \n",
      "9795    Illinois      60610.0  Central  OFF-BI-10003429  Office Supplies   \n",
      "9796        Ohio      43615.0     East  OFF-AR-10001374  Office Supplies   \n",
      "9797        Ohio      43615.0     East  TEC-PH-10004977       Technology   \n",
      "9798        Ohio      43615.0     East  TEC-PH-10000912       Technology   \n",
      "9799        Ohio      43615.0     East  TEC-AC-10000487       Technology   \n",
      "\n",
      "     Sub-Category  \n",
      "0       Bookcases  \n",
      "1          Chairs  \n",
      "2          Labels  \n",
      "3          Tables  \n",
      "4         Storage  \n",
      "...           ...  \n",
      "9795      Binders  \n",
      "9796          Art  \n",
      "9797       Phones  \n",
      "9798       Phones  \n",
      "9799  Accessories  \n",
      "\n",
      "[9800 rows x 18 columns]\n"
     ]
    }
   ],
   "source": [
    "important_columns = ['Product Name', 'Customer Name', 'Sales']\n",
    "rearranged_df = df[important_columns]\n",
    "\n",
    "remaining_columns = [col for col in df.columns if col not in important_columns]\n",
    "rearranged_df = pd.concat([rearranged_df, df[remaining_columns]], axis=1)\n",
    "\n",
    "print(rearranged_df)\n"
   ]
  },
  {
   "cell_type": "markdown",
   "id": "c9ab99b2",
   "metadata": {
    "papermill": {
     "duration": 0.007714,
     "end_time": "2023-11-06T16:43:14.244848",
     "exception": false,
     "start_time": "2023-11-06T16:43:14.237134",
     "status": "completed"
    },
    "tags": []
   },
   "source": [
    "# **6)-** "
   ]
  },
  {
   "cell_type": "code",
   "execution_count": 14,
   "id": "d01c87a5",
   "metadata": {
    "execution": {
     "iopub.execute_input": "2023-11-06T16:43:14.262623Z",
     "iopub.status.busy": "2023-11-06T16:43:14.262220Z",
     "iopub.status.idle": "2023-11-06T16:43:14.329017Z",
     "shell.execute_reply": "2023-11-06T16:43:14.327539Z"
    },
    "papermill": {
     "duration": 0.07876,
     "end_time": "2023-11-06T16:43:14.331619",
     "exception": false,
     "start_time": "2023-11-06T16:43:14.252859",
     "status": "completed"
    },
    "tags": []
   },
   "outputs": [],
   "source": [
    "numeric_columns = df.select_dtypes(include=['number'])\n",
    "df[numeric_columns.columns] = df[numeric_columns.columns].astype(float)\n",
    "\n",
    "string_columns = df.select_dtypes(include=['object'])\n",
    "df[string_columns.columns] = df[string_columns.columns].apply(lambda x: x.str.lower() if x.name in string_columns else x)\n"
   ]
  },
  {
   "cell_type": "markdown",
   "id": "bc184173",
   "metadata": {
    "papermill": {
     "duration": 0.008662,
     "end_time": "2023-11-06T16:43:14.348962",
     "exception": false,
     "start_time": "2023-11-06T16:43:14.340300",
     "status": "completed"
    },
    "tags": []
   },
   "source": [
    "# **7)-** "
   ]
  },
  {
   "cell_type": "code",
   "execution_count": 15,
   "id": "65f5482f",
   "metadata": {
    "execution": {
     "iopub.execute_input": "2023-11-06T16:43:14.367327Z",
     "iopub.status.busy": "2023-11-06T16:43:14.366602Z",
     "iopub.status.idle": "2023-11-06T16:43:14.390570Z",
     "shell.execute_reply": "2023-11-06T16:43:14.388323Z"
    },
    "papermill": {
     "duration": 0.035553,
     "end_time": "2023-11-06T16:43:14.392719",
     "exception": false,
     "start_time": "2023-11-06T16:43:14.357166",
     "status": "completed"
    },
    "tags": []
   },
   "outputs": [
    {
     "name": "stdout",
     "output_type": "stream",
     "text": [
      "      Row ID        Order ID  Order Date   Ship Date       Ship Mode  \\\n",
      "0        1.0  ca-2017-152156  08/11/2017  11/11/2017    second class   \n",
      "1        2.0  ca-2017-152156  08/11/2017  11/11/2017    second class   \n",
      "2        3.0  ca-2017-138688  12/06/2017  16/06/2017    second class   \n",
      "3        4.0  us-2016-108966  11/10/2016  18/10/2016  standard class   \n",
      "4        5.0  us-2016-108966  11/10/2016  18/10/2016  standard class   \n",
      "...      ...             ...         ...         ...             ...   \n",
      "9795  9796.0  ca-2017-125920  21/05/2017  28/05/2017  standard class   \n",
      "9796  9797.0  ca-2016-128608  12/01/2016  17/01/2016  standard class   \n",
      "9797  9798.0  ca-2016-128608  12/01/2016  17/01/2016  standard class   \n",
      "9798  9799.0  ca-2016-128608  12/01/2016  17/01/2016  standard class   \n",
      "9799  9800.0  ca-2016-128608  12/01/2016  17/01/2016  standard class   \n",
      "\n",
      "     Customer ID     Customer Name    Segment        Country             City  \\\n",
      "0       cg-12520       claire gute   consumer  united states        henderson   \n",
      "1       cg-12520       claire gute   consumer  united states        henderson   \n",
      "2       dv-13045   darrin van huff  corporate  united states      los angeles   \n",
      "3       so-20335    sean o'donnell   consumer  united states  fort lauderdale   \n",
      "4       so-20335    sean o'donnell   consumer  united states  fort lauderdale   \n",
      "...          ...               ...        ...            ...              ...   \n",
      "9795    sh-19975     sally hughsby  corporate  united states          chicago   \n",
      "9796    cs-12490  cindy schnelling  corporate  united states           toledo   \n",
      "9797    cs-12490  cindy schnelling  corporate  united states           toledo   \n",
      "9798    cs-12490  cindy schnelling  corporate  united states           toledo   \n",
      "9799    cs-12490  cindy schnelling  corporate  united states           toledo   \n",
      "\n",
      "           State  Postal Code   Region       Product ID         Category  \\\n",
      "0       kentucky      42420.0    south  fur-bo-10001798        furniture   \n",
      "1       kentucky      42420.0    south  fur-ch-10000454        furniture   \n",
      "2     california      90036.0     west  off-la-10000240  office supplies   \n",
      "3        florida      33311.0    south  fur-ta-10000577        furniture   \n",
      "4        florida      33311.0    south  off-st-10000760  office supplies   \n",
      "...          ...          ...      ...              ...              ...   \n",
      "9795    illinois      60610.0  central  off-bi-10003429  office supplies   \n",
      "9796        ohio      43615.0     east  off-ar-10001374  office supplies   \n",
      "9797        ohio      43615.0     east  tec-ph-10004977       technology   \n",
      "9798        ohio      43615.0     east  tec-ph-10000912       technology   \n",
      "9799        ohio      43615.0     east  tec-ac-10000487       technology   \n",
      "\n",
      "     Sub-Category                                       Product Name  \\\n",
      "0       bookcases                  bush somerset collection bookcase   \n",
      "1          chairs  hon deluxe fabric upholstered stacking chairs,...   \n",
      "2          labels  self-adhesive address labels for typewriters b...   \n",
      "3          tables      bretford cr4500 series slim rectangular table   \n",
      "4         storage                     eldon fold 'n roll cart system   \n",
      "...           ...                                                ...   \n",
      "9795      binders  cardinal holdit! binder insert strips,extra st...   \n",
      "9796          art           bic brite liner highlighters, chisel tip   \n",
      "9797       phones                                        ge 30524ee4   \n",
      "9798       phones           anker 24w portable micro usb car charger   \n",
      "9799  accessories                sandisk cruzer 4 gb usb flash drive   \n",
      "\n",
      "         Sales sale interest  \n",
      "0     261.9600             2  \n",
      "1     731.9400             3  \n",
      "2      14.6200             1  \n",
      "3     957.5775             3  \n",
      "4      22.3680             1  \n",
      "...        ...           ...  \n",
      "9795    3.7980             1  \n",
      "9796   10.3680             1  \n",
      "9797  235.1880             2  \n",
      "9798   26.3760             1  \n",
      "9799   10.3840             1  \n",
      "\n",
      "[9800 rows x 19 columns]\n"
     ]
    }
   ],
   "source": [
    "# Define the bin edges and labels for the \"sale interest\" levels\n",
    "bin_edges = [0, 100, 500, float('inf')]  # Define the ranges for basic, moderate, and high sales\n",
    "bin_labels = [1, 2, 3]  # Assign the labels 1, 2, and 3 to basic, moderate, and high\n",
    "\n",
    "# Create a new column \"sale interest\" based on the sales values\n",
    "df['sale interest'] = pd.cut(df['Sales'], bins=bin_edges, labels=bin_labels)\n",
    "\n",
    "# Print the modified DataFrame\n",
    "print(df)"
   ]
  },
  {
   "cell_type": "markdown",
   "id": "602fff2e",
   "metadata": {
    "papermill": {
     "duration": 0.008138,
     "end_time": "2023-11-06T16:43:14.409502",
     "exception": false,
     "start_time": "2023-11-06T16:43:14.401364",
     "status": "completed"
    },
    "tags": []
   },
   "source": [
    "# **8)-** "
   ]
  },
  {
   "cell_type": "code",
   "execution_count": 16,
   "id": "a57224c4",
   "metadata": {
    "execution": {
     "iopub.execute_input": "2023-11-06T16:43:14.428435Z",
     "iopub.status.busy": "2023-11-06T16:43:14.427382Z",
     "iopub.status.idle": "2023-11-06T16:43:14.445921Z",
     "shell.execute_reply": "2023-11-06T16:43:14.444819Z"
    },
    "papermill": {
     "duration": 0.030506,
     "end_time": "2023-11-06T16:43:14.448365",
     "exception": false,
     "start_time": "2023-11-06T16:43:14.417859",
     "status": "completed"
    },
    "tags": []
   },
   "outputs": [
    {
     "name": "stdout",
     "output_type": "stream",
     "text": [
      "      Row ID        Order ID  Order Date   Ship Date       Ship Mode  \\\n",
      "0        1.0  ca-2017-152156  08/11/2017  11/11/2017    second class   \n",
      "1        2.0  ca-2017-152156  08/11/2017  11/11/2017    second class   \n",
      "2        3.0  ca-2017-138688  12/06/2017  16/06/2017    second class   \n",
      "3        4.0  us-2016-108966  11/10/2016  18/10/2016  standard class   \n",
      "4        5.0  us-2016-108966  11/10/2016  18/10/2016  standard class   \n",
      "...      ...             ...         ...         ...             ...   \n",
      "9795  9796.0  ca-2017-125920  21/05/2017  28/05/2017  standard class   \n",
      "9796  9797.0  ca-2016-128608  12/01/2016  17/01/2016  standard class   \n",
      "9797  9798.0  ca-2016-128608  12/01/2016  17/01/2016  standard class   \n",
      "9798  9799.0  ca-2016-128608  12/01/2016  17/01/2016  standard class   \n",
      "9799  9800.0  ca-2016-128608  12/01/2016  17/01/2016  standard class   \n",
      "\n",
      "     Customer ID     Customer Name    Segment        Country             City  \\\n",
      "0       cg-12520       claire gute   consumer  united states        henderson   \n",
      "1       cg-12520       claire gute   consumer  united states        henderson   \n",
      "2       dv-13045   darrin van huff  corporate  united states      los angeles   \n",
      "3       so-20335    sean o'donnell   consumer  united states  fort lauderdale   \n",
      "4       so-20335    sean o'donnell   consumer  united states  fort lauderdale   \n",
      "...          ...               ...        ...            ...              ...   \n",
      "9795    sh-19975     sally hughsby  corporate  united states          chicago   \n",
      "9796    cs-12490  cindy schnelling  corporate  united states           toledo   \n",
      "9797    cs-12490  cindy schnelling  corporate  united states           toledo   \n",
      "9798    cs-12490  cindy schnelling  corporate  united states           toledo   \n",
      "9799    cs-12490  cindy schnelling  corporate  united states           toledo   \n",
      "\n",
      "           State  Postal Code   Region       Product ID         Category  \\\n",
      "0       kentucky      42420.0    south  fur-bo-10001798        furniture   \n",
      "1       kentucky      42420.0    south  fur-ch-10000454        furniture   \n",
      "2     california      90036.0     west  off-la-10000240  office supplies   \n",
      "3        florida      33311.0    south  fur-ta-10000577        furniture   \n",
      "4        florida      33311.0    south  off-st-10000760  office supplies   \n",
      "...          ...          ...      ...              ...              ...   \n",
      "9795    illinois      60610.0  central  off-bi-10003429  office supplies   \n",
      "9796        ohio      43615.0     east  off-ar-10001374  office supplies   \n",
      "9797        ohio      43615.0     east  tec-ph-10004977       technology   \n",
      "9798        ohio      43615.0     east  tec-ph-10000912       technology   \n",
      "9799        ohio      43615.0     east  tec-ac-10000487       technology   \n",
      "\n",
      "     Sub-Category                                       Product Name  \\\n",
      "0       bookcases                  bush somerset collection bookcase   \n",
      "1          chairs  hon deluxe fabric upholstered stacking chairs,...   \n",
      "2          labels  self-adhesive address labels for typewriters b...   \n",
      "3          tables      bretford cr4500 series slim rectangular table   \n",
      "4         storage                     eldon fold 'n roll cart system   \n",
      "...           ...                                                ...   \n",
      "9795      binders  cardinal holdit! binder insert strips,extra st...   \n",
      "9796          art           bic brite liner highlighters, chisel tip   \n",
      "9797       phones                                        ge 30524ee4   \n",
      "9798       phones           anker 24w portable micro usb car charger   \n",
      "9799  accessories                sandisk cruzer 4 gb usb flash drive   \n",
      "\n",
      "         Sales  sale interest  normalized_sale_interest  \n",
      "0     261.9600            2.0                  0.011571  \n",
      "1     731.9400            3.0                  0.032332  \n",
      "2      14.6200            1.0                  0.000646  \n",
      "3     957.5775            3.0                  0.042299  \n",
      "4      22.3680            1.0                  0.000988  \n",
      "...        ...            ...                       ...  \n",
      "9795    3.7980            1.0                  0.000168  \n",
      "9796   10.3680            1.0                  0.000458  \n",
      "9797  235.1880            2.0                  0.010389  \n",
      "9798   26.3760            1.0                  0.001165  \n",
      "9799   10.3840            1.0                  0.000459  \n",
      "\n",
      "[9800 rows x 20 columns]\n"
     ]
    }
   ],
   "source": [
    "df['sale interest'] = df['sale interest'].astype(float)\n",
    "# Define the maximum sale value in your dataset\n",
    "max_sale_value = df['Sales'].max()\n",
    "\n",
    "# Normalize the \"sale interest\" values by dividing by the maximum sale value\n",
    "df['normalized_sale_interest'] = df['Sales'] / max_sale_value\n",
    "\n",
    "# Print the modified DataFrame with normalized values\n",
    "print(df)"
   ]
  },
  {
   "cell_type": "markdown",
   "id": "ce80c331",
   "metadata": {
    "papermill": {
     "duration": 0.008563,
     "end_time": "2023-11-06T16:43:14.465389",
     "exception": false,
     "start_time": "2023-11-06T16:43:14.456826",
     "status": "completed"
    },
    "tags": []
   },
   "source": [
    "# **9)-** "
   ]
  },
  {
   "cell_type": "code",
   "execution_count": 17,
   "id": "8fa8f49c",
   "metadata": {
    "execution": {
     "iopub.execute_input": "2023-11-06T16:43:14.547182Z",
     "iopub.status.busy": "2023-11-06T16:43:14.546520Z",
     "iopub.status.idle": "2023-11-06T16:43:14.566926Z",
     "shell.execute_reply": "2023-11-06T16:43:14.565436Z"
    },
    "papermill": {
     "duration": 0.032857,
     "end_time": "2023-11-06T16:43:14.569344",
     "exception": false,
     "start_time": "2023-11-06T16:43:14.536487",
     "status": "completed"
    },
    "tags": []
   },
   "outputs": [
    {
     "name": "stdout",
     "output_type": "stream",
     "text": [
      "      Row ID        Order ID  Order Date   Ship Date       Ship Mode  \\\n",
      "0        1.0  ca-2017-152156  08/11/2017  11/11/2017    second class   \n",
      "1        2.0  ca-2017-152156  08/11/2017  11/11/2017    second class   \n",
      "2        3.0  ca-2017-138688  12/06/2017  16/06/2017    second class   \n",
      "3        4.0  us-2016-108966  11/10/2016  18/10/2016  standard class   \n",
      "4        5.0  us-2016-108966  11/10/2016  18/10/2016  standard class   \n",
      "...      ...             ...         ...         ...             ...   \n",
      "9795  9796.0  ca-2017-125920  21/05/2017  28/05/2017  standard class   \n",
      "9796  9797.0  ca-2016-128608  12/01/2016  17/01/2016  standard class   \n",
      "9797  9798.0  ca-2016-128608  12/01/2016  17/01/2016  standard class   \n",
      "9798  9799.0  ca-2016-128608  12/01/2016  17/01/2016  standard class   \n",
      "9799  9800.0  ca-2016-128608  12/01/2016  17/01/2016  standard class   \n",
      "\n",
      "     Customer ID    Segment        Country             City       State  \\\n",
      "0       cg-12520   consumer  united states        henderson    kentucky   \n",
      "1       cg-12520   consumer  united states        henderson    kentucky   \n",
      "2       dv-13045  corporate  united states      los angeles  california   \n",
      "3       so-20335   consumer  united states  fort lauderdale     florida   \n",
      "4       so-20335   consumer  united states  fort lauderdale     florida   \n",
      "...          ...        ...            ...              ...         ...   \n",
      "9795    sh-19975  corporate  united states          chicago    illinois   \n",
      "9796    cs-12490  corporate  united states           toledo        ohio   \n",
      "9797    cs-12490  corporate  united states           toledo        ohio   \n",
      "9798    cs-12490  corporate  united states           toledo        ohio   \n",
      "9799    cs-12490  corporate  united states           toledo        ohio   \n",
      "\n",
      "       Region       Product ID         Category Sub-Category  \\\n",
      "0       south  fur-bo-10001798        furniture    bookcases   \n",
      "1       south  fur-ch-10000454        furniture       chairs   \n",
      "2        west  off-la-10000240  office supplies       labels   \n",
      "3       south  fur-ta-10000577        furniture       tables   \n",
      "4       south  off-st-10000760  office supplies      storage   \n",
      "...       ...              ...              ...          ...   \n",
      "9795  central  off-bi-10003429  office supplies      binders   \n",
      "9796     east  off-ar-10001374  office supplies          art   \n",
      "9797     east  tec-ph-10004977       technology       phones   \n",
      "9798     east  tec-ph-10000912       technology       phones   \n",
      "9799     east  tec-ac-10000487       technology  accessories   \n",
      "\n",
      "                                           Product Name     Sales  \\\n",
      "0                     bush somerset collection bookcase  261.9600   \n",
      "1     hon deluxe fabric upholstered stacking chairs,...  731.9400   \n",
      "2     self-adhesive address labels for typewriters b...   14.6200   \n",
      "3         bretford cr4500 series slim rectangular table  957.5775   \n",
      "4                        eldon fold 'n roll cart system   22.3680   \n",
      "...                                                 ...       ...   \n",
      "9795  cardinal holdit! binder insert strips,extra st...    3.7980   \n",
      "9796           bic brite liner highlighters, chisel tip   10.3680   \n",
      "9797                                        ge 30524ee4  235.1880   \n",
      "9798           anker 24w portable micro usb car charger   26.3760   \n",
      "9799                sandisk cruzer 4 gb usb flash drive   10.3840   \n",
      "\n",
      "      sale interest  normalized_sale_interest  \n",
      "0               2.0                  0.011571  \n",
      "1               3.0                  0.032332  \n",
      "2               1.0                  0.000646  \n",
      "3               3.0                  0.042299  \n",
      "4               1.0                  0.000988  \n",
      "...             ...                       ...  \n",
      "9795            1.0                  0.000168  \n",
      "9796            1.0                  0.000458  \n",
      "9797            2.0                  0.010389  \n",
      "9798            1.0                  0.001165  \n",
      "9799            1.0                  0.000459  \n",
      "\n",
      "[9800 rows x 18 columns]\n"
     ]
    }
   ],
   "source": [
    "columns_to_remove = ['Postal Code', 'Customer Name']\n",
    "\n",
    "# Create a new DataFrame without the specified columns\n",
    "df_removed_privacy = df.drop(columns=columns_to_remove)\n",
    "\n",
    "print(df_removed_privacy)"
   ]
  },
  {
   "cell_type": "markdown",
   "id": "0cfce0a4",
   "metadata": {
    "papermill": {
     "duration": 0.009073,
     "end_time": "2023-11-06T16:43:14.587303",
     "exception": false,
     "start_time": "2023-11-06T16:43:14.578230",
     "status": "completed"
    },
    "tags": []
   },
   "source": [
    "# **10)-** "
   ]
  },
  {
   "cell_type": "code",
   "execution_count": 18,
   "id": "ed950f43",
   "metadata": {
    "execution": {
     "iopub.execute_input": "2023-11-06T16:43:14.607124Z",
     "iopub.status.busy": "2023-11-06T16:43:14.606312Z",
     "iopub.status.idle": "2023-11-06T16:43:14.660160Z",
     "shell.execute_reply": "2023-11-06T16:43:14.658112Z"
    },
    "papermill": {
     "duration": 0.066753,
     "end_time": "2023-11-06T16:43:14.662936",
     "exception": false,
     "start_time": "2023-11-06T16:43:14.596183",
     "status": "completed"
    },
    "tags": []
   },
   "outputs": [
    {
     "name": "stdout",
     "output_type": "stream",
     "text": [
      "      Row ID        Order ID  Order Date   Ship Date       Ship Mode  \\\n",
      "0        1.0  ca-2017-152156  08/11/2017  11/11/2017    second class   \n",
      "1        2.0  ca-2017-152156  08/11/2017  11/11/2017    second class   \n",
      "2        3.0  ca-2017-138688  12/06/2017  16/06/2017    second class   \n",
      "3        4.0  us-2016-108966  11/10/2016  18/10/2016  standard class   \n",
      "4        5.0  us-2016-108966  11/10/2016  18/10/2016  standard class   \n",
      "...      ...             ...         ...         ...             ...   \n",
      "9795  9796.0  ca-2017-125920  21/05/2017  28/05/2017  standard class   \n",
      "9796  9797.0  ca-2016-128608  12/01/2016  17/01/2016  standard class   \n",
      "9797  9798.0  ca-2016-128608  12/01/2016  17/01/2016  standard class   \n",
      "9798  9799.0  ca-2016-128608  12/01/2016  17/01/2016  standard class   \n",
      "9799  9800.0  ca-2016-128608  12/01/2016  17/01/2016  standard class   \n",
      "\n",
      "     Customer ID     Customer Name    Segment        Country             City  \\\n",
      "0       cg-12520       claire gute   consumer  united states        henderson   \n",
      "1       cg-12520       claire gute   consumer  united states        henderson   \n",
      "2       dv-13045   darrin van huff  corporate  united states      los angeles   \n",
      "3       so-20335    sean o'donnell   consumer  united states  fort lauderdale   \n",
      "4       so-20335    sean o'donnell   consumer  united states  fort lauderdale   \n",
      "...          ...               ...        ...            ...              ...   \n",
      "9795    sh-19975     sally hughsby  corporate  united states          chicago   \n",
      "9796    cs-12490  cindy schnelling  corporate  united states           toledo   \n",
      "9797    cs-12490  cindy schnelling  corporate  united states           toledo   \n",
      "9798    cs-12490  cindy schnelling  corporate  united states           toledo   \n",
      "9799    cs-12490  cindy schnelling  corporate  united states           toledo   \n",
      "\n",
      "           State  Postal Code   Region       Product ID         Category  \\\n",
      "0       kentucky      42420.0    south  fur-bo-10001798        furniture   \n",
      "1       kentucky      42420.0    south  fur-ch-10000454        furniture   \n",
      "2     california      90036.0     west  off-la-10000240  office supplies   \n",
      "3        florida      33311.0    south  fur-ta-10000577        furniture   \n",
      "4        florida      33311.0    south  off-st-10000760  office supplies   \n",
      "...          ...          ...      ...              ...              ...   \n",
      "9795    illinois      60610.0  central  off-bi-10003429  office supplies   \n",
      "9796        ohio      43615.0     east  off-ar-10001374  office supplies   \n",
      "9797        ohio      43615.0     east  tec-ph-10004977       technology   \n",
      "9798        ohio      43615.0     east  tec-ph-10000912       technology   \n",
      "9799        ohio      43615.0     east  tec-ac-10000487       technology   \n",
      "\n",
      "     Sub-Category                                       Product Name  \\\n",
      "0       bookcases                  bush somerset collection bookcase   \n",
      "1          chairs  hon deluxe fabric upholstered stacking chairs,...   \n",
      "2          labels  self-adhesive address labels for typewriters b...   \n",
      "3          tables      bretford cr4500 series slim rectangular table   \n",
      "4         storage                     eldon fold 'n roll cart system   \n",
      "...           ...                                                ...   \n",
      "9795      binders  cardinal holdit! binder insert strips,extra st...   \n",
      "9796          art           bic brite liner highlighters, chisel tip   \n",
      "9797       phones                                        ge 30524ee4   \n",
      "9798       phones           anker 24w portable micro usb car charger   \n",
      "9799  accessories                sandisk cruzer 4 gb usb flash drive   \n",
      "\n",
      "         Sales  sale interest  normalized_sale_interest  \n",
      "0     261.9600            2.0                  0.011571  \n",
      "1     731.9400            3.0                  0.032332  \n",
      "2      14.6200            1.0                  0.000646  \n",
      "3     957.5775            3.0                  0.042299  \n",
      "4      22.3680            1.0                  0.000988  \n",
      "...        ...            ...                       ...  \n",
      "9795    3.7980            1.0                  0.000168  \n",
      "9796   10.3680            1.0                  0.000458  \n",
      "9797  235.1880            2.0                  0.010389  \n",
      "9798   26.3760            1.0                  0.001165  \n",
      "9799   10.3840            1.0                  0.000459  \n",
      "\n",
      "[9800 rows x 20 columns]\n"
     ]
    }
   ],
   "source": [
    "print(df.drop_duplicates())"
   ]
  }
 ],
 "metadata": {
  "kernelspec": {
   "display_name": "Python 3",
   "language": "python",
   "name": "python3"
  },
  "language_info": {
   "codemirror_mode": {
    "name": "ipython",
    "version": 3
   },
   "file_extension": ".py",
   "mimetype": "text/x-python",
   "name": "python",
   "nbconvert_exporter": "python",
   "pygments_lexer": "ipython3",
   "version": "3.10.12"
  },
  "papermill": {
   "default_parameters": {},
   "duration": 5.354911,
   "end_time": "2023-11-06T16:43:15.194294",
   "environment_variables": {},
   "exception": null,
   "input_path": "__notebook__.ipynb",
   "output_path": "__notebook__.ipynb",
   "parameters": {},
   "start_time": "2023-11-06T16:43:09.839383",
   "version": "2.4.0"
  }
 },
 "nbformat": 4,
 "nbformat_minor": 5
}
