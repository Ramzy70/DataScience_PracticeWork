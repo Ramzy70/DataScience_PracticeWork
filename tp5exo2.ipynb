{
 "cells": [
  {
   "cell_type": "code",
   "execution_count": 1,
   "id": "3c9463f5",
   "metadata": {
    "_cell_guid": "b1076dfc-b9ad-4769-8c92-a6c4dae69d19",
    "_uuid": "8f2839f25d086af736a60e9eeb907d3b93b6e0e5",
    "execution": {
     "iopub.execute_input": "2023-12-11T11:47:39.750254Z",
     "iopub.status.busy": "2023-12-11T11:47:39.749236Z",
     "iopub.status.idle": "2023-12-11T11:47:40.182394Z",
     "shell.execute_reply": "2023-12-11T11:47:40.180944Z"
    },
    "papermill": {
     "duration": 0.443605,
     "end_time": "2023-12-11T11:47:40.185084",
     "exception": false,
     "start_time": "2023-12-11T11:47:39.741479",
     "status": "completed"
    },
    "tags": []
   },
   "outputs": [
    {
     "name": "stdout",
     "output_type": "stream",
     "text": [
      "/kaggle/input/movielens100k/movies.csv\n",
      "/kaggle/input/movielens100k/ratings.csv\n",
      "/kaggle/input/movielens100k/u.data\n",
      "/kaggle/input/movielens100k/tags.csv\n",
      "/kaggle/input/movielens100k/links.csv\n"
     ]
    }
   ],
   "source": [
    "# This Python 3 environment comes with many helpful analytics libraries installed\n",
    "# It is defined by the kaggle/python Docker image: https://github.com/kaggle/docker-python\n",
    "# For example, here's several helpful packages to load\n",
    "\n",
    "import numpy as np # linear algebra\n",
    "import pandas as pd # data processing, CSV file I/O (e.g. pd.read_csv)\n",
    "\n",
    "# Input data files are available in the read-only \"../input/\" directory\n",
    "# For example, running this (by clicking run or pressing Shift+Enter) will list all files under the input directory\n",
    "\n",
    "import os\n",
    "for dirname, _, filenames in os.walk('/kaggle/input'):\n",
    "    for filename in filenames:\n",
    "        print(os.path.join(dirname, filename))\n",
    "\n",
    "# You can write up to 20GB to the current directory (/kaggle/working/) that gets preserved as output when you create a version using \"Save & Run All\" \n",
    "# You can also write temporary files to /kaggle/temp/, but they won't be saved outside of the current session"
   ]
  },
  {
   "cell_type": "code",
   "execution_count": 2,
   "id": "38f7ebc8",
   "metadata": {
    "execution": {
     "iopub.execute_input": "2023-12-11T11:47:40.198040Z",
     "iopub.status.busy": "2023-12-11T11:47:40.197499Z",
     "iopub.status.idle": "2023-12-11T11:47:40.305654Z",
     "shell.execute_reply": "2023-12-11T11:47:40.304512Z"
    },
    "papermill": {
     "duration": 0.117337,
     "end_time": "2023-12-11T11:47:40.308305",
     "exception": false,
     "start_time": "2023-12-11T11:47:40.190968",
     "status": "completed"
    },
    "tags": []
   },
   "outputs": [],
   "source": [
    "import pandas as pd\n",
    "\n",
    "# Step 1: Download and load the MovieLens 100k dataset\n",
    "movie_lens_data = pd.read_csv('/kaggle/input/movielens100k/ratings.csv')"
   ]
  },
  {
   "cell_type": "code",
   "execution_count": 3,
   "id": "55abc1ea",
   "metadata": {
    "execution": {
     "iopub.execute_input": "2023-12-11T11:47:40.321443Z",
     "iopub.status.busy": "2023-12-11T11:47:40.320869Z",
     "iopub.status.idle": "2023-12-11T11:47:40.327230Z",
     "shell.execute_reply": "2023-12-11T11:47:40.326139Z"
    },
    "papermill": {
     "duration": 0.016526,
     "end_time": "2023-12-11T11:47:40.330582",
     "exception": false,
     "start_time": "2023-12-11T11:47:40.314056",
     "status": "completed"
    },
    "tags": []
   },
   "outputs": [
    {
     "name": "stdout",
     "output_type": "stream",
     "text": [
      "Columns: Index(['userId', 'movieId', 'rating', 'timestamp'], dtype='object')\n"
     ]
    }
   ],
   "source": [
    "# Step 2: Explore the dataset\n",
    "# Enumerate the columns\n",
    "columns = movie_lens_data.columns\n",
    "print(\"Columns:\", columns)"
   ]
  },
  {
   "cell_type": "code",
   "execution_count": 4,
   "id": "71c8dbd1",
   "metadata": {
    "execution": {
     "iopub.execute_input": "2023-12-11T11:47:40.343504Z",
     "iopub.status.busy": "2023-12-11T11:47:40.343095Z",
     "iopub.status.idle": "2023-12-11T11:47:40.361109Z",
     "shell.execute_reply": "2023-12-11T11:47:40.359856Z"
    },
    "papermill": {
     "duration": 0.027423,
     "end_time": "2023-12-11T11:47:40.363605",
     "exception": false,
     "start_time": "2023-12-11T11:47:40.336182",
     "status": "completed"
    },
    "tags": []
   },
   "outputs": [
    {
     "name": "stdout",
     "output_type": "stream",
     "text": [
      "671\n",
      "9066\n",
      "100004\n"
     ]
    }
   ],
   "source": [
    "# Check the number of users, items, and ratings\n",
    "num_users = movie_lens_data['userId'].nunique()\n",
    "num_items = movie_lens_data['movieId'].nunique()\n",
    "num_ratings = len(movie_lens_data)\n",
    "print(num_users)\n",
    "print(num_items)\n",
    "print(num_ratings)"
   ]
  },
  {
   "cell_type": "code",
   "execution_count": 5,
   "id": "4611e0fb",
   "metadata": {
    "execution": {
     "iopub.execute_input": "2023-12-11T11:47:40.377439Z",
     "iopub.status.busy": "2023-12-11T11:47:40.376553Z",
     "iopub.status.idle": "2023-12-11T11:47:40.392134Z",
     "shell.execute_reply": "2023-12-11T11:47:40.390999Z"
    },
    "papermill": {
     "duration": 0.02536,
     "end_time": "2023-12-11T11:47:40.394753",
     "exception": false,
     "start_time": "2023-12-11T11:47:40.369393",
     "status": "completed"
    },
    "tags": []
   },
   "outputs": [
    {
     "name": "stdout",
     "output_type": "stream",
     "text": [
      "671\n"
     ]
    }
   ],
   "source": [
    "# Number of ratings of each user\n",
    "ratings_per_user = movie_lens_data.groupby('userId').size()\n",
    "print(len(ratings_per_user))"
   ]
  },
  {
   "cell_type": "code",
   "execution_count": 6,
   "id": "5215f9e6",
   "metadata": {
    "execution": {
     "iopub.execute_input": "2023-12-11T11:47:40.408145Z",
     "iopub.status.busy": "2023-12-11T11:47:40.407755Z",
     "iopub.status.idle": "2023-12-11T11:47:40.413163Z",
     "shell.execute_reply": "2023-12-11T11:47:40.412350Z"
    },
    "papermill": {
     "duration": 0.015616,
     "end_time": "2023-12-11T11:47:40.416145",
     "exception": false,
     "start_time": "2023-12-11T11:47:40.400529",
     "status": "completed"
    },
    "tags": []
   },
   "outputs": [
    {
     "name": "stdout",
     "output_type": "stream",
     "text": [
      "149.03725782414307\n"
     ]
    }
   ],
   "source": [
    "# Average number of ratings per user\n",
    "avg_ratings_per_user = ratings_per_user.mean()\n",
    "print(avg_ratings_per_user)"
   ]
  },
  {
   "cell_type": "code",
   "execution_count": 7,
   "id": "a9614aab",
   "metadata": {
    "execution": {
     "iopub.execute_input": "2023-12-11T11:47:40.429684Z",
     "iopub.status.busy": "2023-12-11T11:47:40.429030Z",
     "iopub.status.idle": "2023-12-11T11:47:40.440136Z",
     "shell.execute_reply": "2023-12-11T11:47:40.439081Z"
    },
    "papermill": {
     "duration": 0.020443,
     "end_time": "2023-12-11T11:47:40.442332",
     "exception": false,
     "start_time": "2023-12-11T11:47:40.421889",
     "status": "completed"
    },
    "tags": []
   },
   "outputs": [
    {
     "name": "stdout",
     "output_type": "stream",
     "text": [
      "movieId\n",
      "1         247\n",
      "2         107\n",
      "3          59\n",
      "4          13\n",
      "5          56\n",
      "         ... \n",
      "161944      1\n",
      "162376      1\n",
      "162542      1\n",
      "162672      1\n",
      "163949      1\n",
      "Length: 9066, dtype: int64\n"
     ]
    }
   ],
   "source": [
    "# Number of items per item\n",
    "ratings_per_item = movie_lens_data.groupby('movieId').size()\n",
    "print(ratings_per_item)"
   ]
  },
  {
   "cell_type": "code",
   "execution_count": 8,
   "id": "89d17c4c",
   "metadata": {
    "execution": {
     "iopub.execute_input": "2023-12-11T11:47:40.455988Z",
     "iopub.status.busy": "2023-12-11T11:47:40.455088Z",
     "iopub.status.idle": "2023-12-11T11:47:40.460739Z",
     "shell.execute_reply": "2023-12-11T11:47:40.459676Z"
    },
    "papermill": {
     "duration": 0.015027,
     "end_time": "2023-12-11T11:47:40.463249",
     "exception": false,
     "start_time": "2023-12-11T11:47:40.448222",
     "status": "completed"
    },
    "tags": []
   },
   "outputs": [
    {
     "name": "stdout",
     "output_type": "stream",
     "text": [
      "11.030664019413193\n"
     ]
    }
   ],
   "source": [
    "# Average number of ratings per item\n",
    "avg_ratings_per_item = ratings_per_item.mean()\n",
    "print(avg_ratings_per_item)"
   ]
  },
  {
   "cell_type": "code",
   "execution_count": 9,
   "id": "59c43335",
   "metadata": {
    "execution": {
     "iopub.execute_input": "2023-12-11T11:47:40.477809Z",
     "iopub.status.busy": "2023-12-11T11:47:40.477406Z",
     "iopub.status.idle": "2023-12-11T11:47:40.501544Z",
     "shell.execute_reply": "2023-12-11T11:47:40.500335Z"
    },
    "papermill": {
     "duration": 0.034438,
     "end_time": "2023-12-11T11:47:40.504225",
     "exception": false,
     "start_time": "2023-12-11T11:47:40.469787",
     "status": "completed"
    },
    "tags": []
   },
   "outputs": [
    {
     "name": "stdout",
     "output_type": "stream",
     "text": [
      "       userId  movieId  rating   timestamp\n",
      "62000     452     2527     3.0   976424003\n",
      "82559     562     2791     4.0  1167429094\n",
      "69260     480     4776     5.0  1272669313\n",
      "22459     157     7022     4.0  1344510959\n",
      "543         7      786     2.0   851866744\n",
      "...       ...      ...     ...         ...\n",
      "35618     255     5269     4.0  1237062895\n",
      "76749     531     3791     4.5  1244308218\n",
      "42235     303    40815     4.0  1299489564\n",
      "51805     380    40614     3.0  1148077881\n",
      "59820     432     1320     3.0  1138381429\n",
      "\n",
      "[20000 rows x 4 columns]\n"
     ]
    }
   ],
   "source": [
    "import numpy as np\n",
    "\n",
    "def RSelection(data, p):\n",
    "    \"\"\"\n",
    "    Randomly select a portion 'p' of the input data with equal selection probability for each rating.\n",
    "\n",
    "    Parameters:\n",
    "    - data: DataFrame, the input data containing ratings\n",
    "    - p: float, the portion of data to be selected (0 <= p <= 1)\n",
    "\n",
    "    Returns:\n",
    "    - selected_data: DataFrame, the randomly selected portion of the input data\n",
    "    \"\"\"\n",
    "    # Validate the input portion 'p'\n",
    "    if not 0 <= p <= 1:\n",
    "        raise ValueError(\"Invalid value for 'p'. It should be between 0 and 1.\")\n",
    "\n",
    "    # Calculate the total number of ratings\n",
    "    total_ratings = len(data)\n",
    "\n",
    "    # Calculate the number of ratings to select\n",
    "    num_ratings_to_select = int(total_ratings * p)\n",
    "\n",
    "    # Generate random indices for selecting ratings\n",
    "    random_indices = np.random.choice(total_ratings, num_ratings_to_select, replace=False)\n",
    "\n",
    "    # Select the portion of data based on random indices\n",
    "    selected_data = data.iloc[random_indices]\n",
    "\n",
    "    return selected_data\n",
    "\n",
    "# Example usage:\n",
    "# Assuming you have a DataFrame 'movie_lens_data' from the MovieLens dataset\n",
    "# You can use the RSelection method as follows:\n",
    "selected_portion = RSelection(movie_lens_data, 0.2)  # Selects 20% of the data randomly\n",
    "print(selected_portion)\n"
   ]
  },
  {
   "cell_type": "code",
   "execution_count": 10,
   "id": "bf2ac4b7",
   "metadata": {
    "execution": {
     "iopub.execute_input": "2023-12-11T11:47:40.518300Z",
     "iopub.status.busy": "2023-12-11T11:47:40.517838Z",
     "iopub.status.idle": "2023-12-11T11:47:40.561869Z",
     "shell.execute_reply": "2023-12-11T11:47:40.560546Z"
    },
    "papermill": {
     "duration": 0.054089,
     "end_time": "2023-12-11T11:47:40.564410",
     "exception": false,
     "start_time": "2023-12-11T11:47:40.510321",
     "status": "completed"
    },
    "tags": []
   },
   "outputs": [
    {
     "name": "stdout",
     "output_type": "stream",
     "text": [
      "\n",
      "Fold 1:\n",
      "\n",
      "Fold 2:\n",
      "\n",
      "Fold 3:\n",
      "\n",
      "Fold 4:\n",
      "\n",
      "Fold 5:\n"
     ]
    }
   ],
   "source": [
    "\n",
    "def k_fold_split(data, k):\n",
    "    \"\"\"\n",
    "    Perform k-fold splitting using RSelection.\n",
    "\n",
    "    Parameters:\n",
    "    - data: DataFrame, the input data containing ratings\n",
    "    - k: int, the number of folds\n",
    "\n",
    "    Returns:\n",
    "    - folds: list of tuples, each tuple contains two DataFrames (train_fold, test_fold)\n",
    "    \"\"\"\n",
    "    # Shuffle the data before splitting\n",
    "    shuffled_data = data.sample(frac=1, random_state=42).reset_index(drop=True)\n",
    "\n",
    "    # Calculate the size of each fold\n",
    "    fold_size = len(data) // k\n",
    "\n",
    "    # Initialize an empty list to store folds\n",
    "    folds = []\n",
    "\n",
    "    # Create k folds\n",
    "    for i in range(k):\n",
    "        # Determine the start and end indices for the current fold\n",
    "        start_idx = i * fold_size\n",
    "        end_idx = start_idx + fold_size\n",
    "\n",
    "        # Extract the test fold\n",
    "        test_fold = shuffled_data.iloc[start_idx:end_idx]\n",
    "\n",
    "        # Extract the training fold (joining k-1 folds)\n",
    "        train_fold = pd.concat([shuffled_data.iloc[:start_idx], shuffled_data.iloc[end_idx:]])\n",
    "\n",
    "        # Append the current fold to the list\n",
    "        folds.append((train_fold, test_fold))\n",
    "\n",
    "    return folds\n",
    "\n",
    "# Example usage:\n",
    "# Assuming you have a DataFrame 'movie_lens_data' from the MovieLens dataset\n",
    "# You can use the k_fold_split method as follows:\n",
    "k = 5  # Number of folds\n",
    "folds = k_fold_split(movie_lens_data, k)\n",
    "\n",
    "# Iterate over folds for training and testing\n",
    "for i, (train_fold, test_fold) in enumerate(folds):\n",
    "    print(f\"\\nFold {i + 1}:\")\n",
    "    # Your training and testing code here\n",
    "    # train_fold is for training, test_fold is for testing\n",
    "    # Perform your model training and evaluation on these folds"
   ]
  },
  {
   "cell_type": "code",
   "execution_count": 11,
   "id": "2e097cc7",
   "metadata": {
    "execution": {
     "iopub.execute_input": "2023-12-11T11:47:40.578878Z",
     "iopub.status.busy": "2023-12-11T11:47:40.578475Z",
     "iopub.status.idle": "2023-12-11T11:47:41.989042Z",
     "shell.execute_reply": "2023-12-11T11:47:41.987989Z"
    },
    "papermill": {
     "duration": 1.420883,
     "end_time": "2023-12-11T11:47:41.991495",
     "exception": false,
     "start_time": "2023-12-11T11:47:40.570612",
     "status": "completed"
    },
    "tags": []
   },
   "outputs": [
    {
     "name": "stdout",
     "output_type": "stream",
     "text": [
      "       userId  movieId  rating   timestamp\n",
      "7           1     1293     2.0  1260759148\n",
      "50          2      300     3.0   835355532\n",
      "60          2      367     3.0   835355619\n",
      "35          2      186     3.0   835355664\n",
      "33          2      168     3.0   835355710\n",
      "...       ...      ...     ...         ...\n",
      "99988     671     5377     4.0  1064245557\n",
      "99980     671     4963     4.5  1065111855\n",
      "99913     671     1148     5.0  1064891021\n",
      "99994     671     5952     5.0  1063502716\n",
      "99982     671     4993     5.0  1064245483\n",
      "\n",
      "[18310 rows x 4 columns]\n"
     ]
    }
   ],
   "source": [
    "import pandas as pd\n",
    "import numpy as np\n",
    "\n",
    "def stratified_sampling(data, p):\n",
    "    \"\"\"\n",
    "    Perform stratified sampling based on ratings and users.\n",
    "\n",
    "    Parameters:\n",
    "    - data: DataFrame, the input data containing ratings\n",
    "    - p: float, the portion of data to be selected (0 <= p <= 1)\n",
    "\n",
    "    Returns:\n",
    "    - selected_data: DataFrame, the stratified sampled portion of the input data\n",
    "    \"\"\"\n",
    "    # Validate the input portion 'p'\n",
    "    if not 0 <= p <= 1:\n",
    "        raise ValueError(\"Invalid value for 'p'. It should be between 0 and 1.\")\n",
    "\n",
    "    # Group the data by 'userId' and 'rating'\n",
    "    grouped_data = data.groupby(['userId', 'rating'])\n",
    "\n",
    "    # Initialize an empty list to store sampled DataFrames\n",
    "    sampled_dfs = []\n",
    "\n",
    "    # Iterate over groups\n",
    "    for (user_id, rating), group_df in grouped_data:\n",
    "        # Calculate the number of ratings for the current group\n",
    "        group_size = len(group_df)\n",
    "\n",
    "        # Calculate the number of ratings to select for the current group\n",
    "        num_ratings_to_select = int(group_size * p)\n",
    "\n",
    "        # Check if the group has enough ratings to meet the required portion\n",
    "        if num_ratings_to_select > 0:\n",
    "            # Generate random indices for selecting ratings within the group\n",
    "            random_indices = np.random.choice(group_size, num_ratings_to_select, replace=False)\n",
    "\n",
    "            # Select the portion of data based on random indices within the group\n",
    "            sampled_df = group_df.iloc[random_indices]\n",
    "\n",
    "            # Append the sampled DataFrame to the list\n",
    "            sampled_dfs.append(sampled_df)\n",
    "\n",
    "    # Concatenate the sampled DataFrames to form the final sampled data\n",
    "    selected_data = pd.concat(sampled_dfs)\n",
    "\n",
    "    return selected_data\n",
    "\n",
    "# Example usage:\n",
    "# Assuming you have a DataFrame 'movie_lens_data' from the MovieLens dataset\n",
    "# You can use the stratified_sampling method as follows:\n",
    "selected_stratified_data = stratified_sampling(movie_lens_data, 0.2)  # Selects 20% of the data stratified by users and ratings\n",
    "print(selected_stratified_data)"
   ]
  },
  {
   "cell_type": "code",
   "execution_count": 12,
   "id": "8e631df6",
   "metadata": {
    "execution": {
     "iopub.execute_input": "2023-12-11T11:47:42.005423Z",
     "iopub.status.busy": "2023-12-11T11:47:42.005099Z",
     "iopub.status.idle": "2023-12-11T11:47:42.738333Z",
     "shell.execute_reply": "2023-12-11T11:47:42.737311Z"
    },
    "papermill": {
     "duration": 0.743685,
     "end_time": "2023-12-11T11:47:42.741362",
     "exception": false,
     "start_time": "2023-12-11T11:47:41.997677",
     "status": "completed"
    },
    "tags": []
   },
   "outputs": [],
   "source": [
    "\n",
    "def RSelection2(data, sample_size):\n",
    "    \"\"\"\n",
    "    Randomly select a sample with replacement from the input data.\n",
    "\n",
    "    Parameters:\n",
    "    - data: DataFrame, the input data\n",
    "    - sample_size: int, the size of the sample to be selected\n",
    "\n",
    "    Returns:\n",
    "    - selected_data: DataFrame, the randomly selected sample\n",
    "    \"\"\"\n",
    "    # Use random indices to sample with replacement\n",
    "    random_indices = np.random.choice(len(data), sample_size, replace=True)\n",
    "    selected_data = data.iloc[random_indices]\n",
    "    return selected_data\n",
    "\n",
    "def bootstrapping(data, num_samples, sample_size):\n",
    "    \"\"\"\n",
    "    Perform bootstrapping using RSelection.\n",
    "\n",
    "    Parameters:\n",
    "    - data: DataFrame, the input data\n",
    "    - num_samples: int, the number of bootstrap samples to generate\n",
    "    - sample_size: int, the size of each bootstrap sample\n",
    "\n",
    "    Returns:\n",
    "    - bootstrap_samples: list of DataFrames, the generated bootstrap samples\n",
    "    \"\"\"\n",
    "    # Validate input parameters\n",
    "    if num_samples <= 0 or sample_size <= 0:\n",
    "        raise ValueError(\"Number of samples and sample size must be positive integers.\")\n",
    "\n",
    "    # Initialize an empty list to store bootstrap samples\n",
    "    bootstrap_samples = []\n",
    "\n",
    "    # Perform bootstrapping\n",
    "    for _ in range(num_samples):\n",
    "        # Use RSelection to randomly select a sample with replacement\n",
    "        bootstrap_sample = RSelection2(data, sample_size)\n",
    "\n",
    "        # Append the bootstrap sample to the list\n",
    "        bootstrap_samples.append(bootstrap_sample)\n",
    "\n",
    "    return bootstrap_samples\n",
    "\n",
    "# Example usage:\n",
    "# Assuming you have a DataFrame 'movie_lens_data' from the MovieLens dataset\n",
    "# You can use the bootstrapping method as follows:\n",
    "num_bootstrap_samples = 100  # Number of bootstrap samples to generate\n",
    "bootstrap_sample_size = len(movie_lens_data)  # Size of each bootstrap sample (using the full dataset size)\n",
    "\n",
    "# Perform bootstrapping\n",
    "bootstrap_samples = bootstrapping(movie_lens_data, num_bootstrap_samples, bootstrap_sample_size)\n",
    "# print(bootstrap_samples)\n",
    "# Each element in 'bootstrap_samples' is a DataFrame representing a bootstrap sample\n",
    "# Use these samples for training or any other analysis"
   ]
  },
  {
   "cell_type": "code",
   "execution_count": 13,
   "id": "9d9a051d",
   "metadata": {
    "execution": {
     "iopub.execute_input": "2023-12-11T11:47:42.755777Z",
     "iopub.status.busy": "2023-12-11T11:47:42.755416Z",
     "iopub.status.idle": "2023-12-11T11:47:43.426391Z",
     "shell.execute_reply": "2023-12-11T11:47:43.425027Z"
    },
    "papermill": {
     "duration": 0.681364,
     "end_time": "2023-12-11T11:47:43.429409",
     "exception": false,
     "start_time": "2023-12-11T11:47:42.748045",
     "status": "completed"
    },
    "tags": []
   },
   "outputs": [
    {
     "data": {
      "image/png": "[encoded data removed]",
      "text/plain": [
       "<Figure size 800x600 with 1 Axes>"
      ]
     },
     "metadata": {},
     "output_type": "display_data"
    },
    {
     "data": {
      "image/png": "[encoded data removed]",
      "text/plain": [
       "<Figure size 800x600 with 1 Axes>"
      ]
     },
     "metadata": {},
     "output_type": "display_data"
    }
   ],
   "source": [
    "import matplotlib.pyplot as plt\n",
    "\n",
    "def plot_rating_distribution(data, title):\n",
    "    \"\"\"\n",
    "    Plot the distribution of ratings in the given dataset.\n",
    "\n",
    "    Parameters:\n",
    "    - data: DataFrame, the input data containing ratings\n",
    "    - title: str, the title for the plot\n",
    "    \"\"\"\n",
    "    plt.figure(figsize=(8, 6))\n",
    "    plt.hist(data['rating'], bins=5, edgecolor='black', alpha=0.7)\n",
    "    plt.title(title)\n",
    "    plt.xlabel('Rating')\n",
    "    plt.ylabel('Frequency')\n",
    "    plt.grid(axis='y', linestyle='--', alpha=0.7)\n",
    "    plt.show()\n",
    "\n",
    "# Plot the distribution of ratings in the original dataset\n",
    "plot_rating_distribution(movie_lens_data, 'Original Dataset - Rating Distribution')\n",
    "\n",
    "# Plot the distribution of ratings in each bootstrap sample\n",
    "for i, bootstrap_sample in enumerate(bootstrap_samples):\n",
    "    title = f'Bootstrap Sample {i + 1} - Rating Distribution'\n",
    "    plot_rating_distribution(bootstrap_sample, title)\n",
    "    break #to show only one\n"
   ]
  }
 ],
 "metadata": {
  "kaggle": {
   "accelerator": "none",
   "dataSources": [
    {
     "datasetId": 66613,
     "sourceId": 153886,
     "sourceType": "datasetVersion"
    }
   ],
   "dockerImageVersionId": 30615,
   "isGpuEnabled": false,
   "isInternetEnabled": true,
   "language": "python",
   "sourceType": "notebook"
  },
  "kernelspec": {
   "display_name": "Python 3",
   "language": "python",
   "name": "python3"
  },
  "language_info": {
   "codemirror_mode": {
    "name": "ipython",
    "version": 3
   },
   "file_extension": ".py",
   "mimetype": "text/x-python",
   "name": "python",
   "nbconvert_exporter": "python",
   "pygments_lexer": "ipython3",
   "version": "3.10.12"
  },
  "papermill": {
   "default_parameters": {},
   "duration": 7.664774,
   "end_time": "2023-12-11T11:47:43.960476",
   "environment_variables": {},
   "exception": null,
   "input_path": "__notebook__.ipynb",
   "output_path": "__notebook__.ipynb",
   "parameters": {},
   "start_time": "2023-12-11T11:47:36.295702",
   "version": "2.4.0"
  }
 },
 "nbformat": 4,
 "nbformat_minor": 5
}
